{
  "cells": [
    {
      "cell_type": "markdown",
      "metadata": {
        "id": "SCzKMNCOzsVC"
      },
      "source": [
        "# Praxis Interface\n",
        "\n",
        "Praxis Interface is a simple tool that helps teams reason about data that evolves over time. It is used internally by the Praxis team for financial forecasts of over $30B in transactional volume.\n",
        "\n",
        "<figure>\n",
        "  <img\n",
        "  src=\"https://drive.google.com/uc?id=1wUv8d8Qvdrfo1SVawsvAkqsMAfZI0Vdu\"\n",
        "  alt=\"product overview\"\n",
        "  >\n",
        "  <figcaption>visualizing bigquery-public-data.covid19_open_data</figcaption>\n",
        "</figure>\n",
        "\n",
        "\n",
        "## Features\n",
        "\n",
        "- Visualize different metrics and time-series IDs and their decompositions from your pandas DataFrame\n",
        "- Join covariates to your target series\n",
        "- Find leading indicators among your covariates\n",
        "- Export train-test splits given timestamp\n",
        "- Quickly train baseline statistical and ML models (single-series and multi-series), export predictions, residuals, and model\n",
        "- Benchmark different feature engineering settings and models\n",
        "\n",
        "## Reporting Bugs / Providing Feedbacks\n",
        "\n",
        "The tool is still in alpha, so there may be rough edges and bugs. We'd love to hear from you for bug reports and feedbacks :)\n",
        "\n",
        "Feel free to join our Community Slack channel at https://join.slack.com/t/praxiscommunity/shared_invite/zt-1ef4vfje9-VCdEThDKIrYd0Z5ErVGo9A, or alternatively send correspondences to engineering@praxispioneering.com.\n",
        "\n",
        "## Relevant Links\n",
        "\n",
        "- Colab demo: https://demo.praxispioneering.com\n",
        "\n",
        "- Documentation and API reference: https://docs.praxispioneering.com\n"
      ]
    },
    {
      "cell_type": "markdown",
      "source": [
        "## Installing via Pip\n",
        "\n",
        "You may save the wheel for installation on your own platforms (hosted Jupyter notebooks, Vertex AI, localhost, etc.) \n",
        "\n",
        "Run the command below to install the package. This should take at most 3 to 5 minutes."
      ],
      "metadata": {
        "id": "30cd-kvaePzV"
      }
    },
    {
      "cell_type": "code",
      "execution_count": null,
      "metadata": {
        "id": "sxnGXIQWzsVD"
      },
      "outputs": [],
      "source": [
        "!pip install https://storage.googleapis.com/praxis-public/wheels/praxis_interface-0.0.9-py2.py3-none-any.whl"
      ]
    },
    {
      "cell_type": "markdown",
      "source": [
        "* After seeing:\n",
        "```\n",
        "WARNING: The following packages were previously imported in this runtime:\n",
        "  [pkg1, pkg2, ..]\n",
        "```\n",
        "you may wanna restart the runtime, otherwise importing Praxis may not work.\n",
        "* Pip may report an installation warning like:\n",
        "```\n",
        "ERROR: pip's dependency resolver does not currently take into account all the packages that are installed.\n",
        "```\n",
        "this won't have any affect on the success of installation. You may proceed as usual."
      ],
      "metadata": {
        "id": "6zH-6kIirxMg"
      }
    },
    {
      "cell_type": "markdown",
      "source": [
        "## Getting Started\n",
        "\n",
        "You could launch a Praxis interface in just a few lines:"
      ],
      "metadata": {
        "id": "m7rC08OmfU6P"
      }
    },
    {
      "cell_type": "code",
      "execution_count": null,
      "metadata": {
        "id": "ici8TbF_zsVE"
      },
      "outputs": [],
      "source": [
        "from praxis_interface import Praxis\n",
        "import pandas as pd\n",
        "\n",
        "df = pd.read_parquet('https://storage.googleapis.com/praxis-public/assets/covid-19-us-demo.parquet')\n",
        "praxis = Praxis(df)"
      ]
    },
    {
      "cell_type": "code",
      "execution_count": null,
      "metadata": {
        "id": "jfSSdHRuzsVF"
      },
      "outputs": [],
      "source": [
        "praxis.run(mode=\"inline\") # running inline inside a cell"
      ]
    },
    {
      "cell_type": "code",
      "source": [
        "praxis.run(mode=\"external\") # running in an extra tab"
      ],
      "metadata": {
        "id": "P_1SK4plmSc_"
      },
      "execution_count": null,
      "outputs": []
    },
    {
      "cell_type": "markdown",
      "source": [
        "If you are in a hosted environment, the proxy set-up may also be buggy and results in the interface not showing up. Your browser may also be configured to not display the interface due to Enhanced Tracking Protection."
      ],
      "metadata": {
        "id": "oFPE_wcisCze"
      }
    },
    {
      "cell_type": "markdown",
      "source": [
        "## Working with the Interface\n",
        "\n",
        "Praxis is designed to be flexible and performant. Here are some examples of how you could work with the tool:\n",
        "\n"
      ],
      "metadata": {
        "id": "sssx5ScOrN3n"
      }
    },
    {
      "cell_type": "markdown",
      "source": [
        "### Selecting Time-series and Columns"
      ],
      "metadata": {
        "id": "MdtuaDWnt061"
      }
    },
    {
      "cell_type": "code",
      "source": [
        "from IPython.display import IFrame\n",
        "\n",
        "IFrame(src=\"https://www.loom.com/embed/fc2616d1c28a4fcc9e552064276673ca\",width=800, height=400)"
      ],
      "metadata": {
        "colab": {
          "base_uri": "https://localhost:8080/",
          "height": 422
        },
        "id": "URDwfWmitKpR",
        "outputId": "9a361307-524d-44c2-8463-993b766cf3fb"
      },
      "execution_count": null,
      "outputs": [
        {
          "output_type": "execute_result",
          "data": {
            "text/plain": [
              "<IPython.lib.display.IFrame at 0x7f063cf03190>"
            ],
            "text/html": [
              "\n",
              "        <iframe\n",
              "            width=\"800\"\n",
              "            height=\"400\"\n",
              "            src=\"https://www.loom.com/embed/fc2616d1c28a4fcc9e552064276673ca\"\n",
              "            frameborder=\"0\"\n",
              "            allowfullscreen\n",
              "            \n",
              "        ></iframe>\n",
              "        "
            ]
          },
          "metadata": {},
          "execution_count": 6
        }
      ]
    },
    {
      "cell_type": "markdown",
      "source": [
        "### Add Covariates and Change Cutoff"
      ],
      "metadata": {
        "id": "Iewji9xcvH_X"
      }
    },
    {
      "cell_type": "code",
      "source": [
        "IFrame(src=\"https://www.loom.com/embed/12af08aaf7eb4feebb85b318a16b35a3\",width=800, height=400)"
      ],
      "metadata": {
        "id": "shDqLoVqt59u",
        "colab": {
          "base_uri": "https://localhost:8080/",
          "height": 422
        },
        "outputId": "f9099014-955c-410e-8fbb-be030fff300d"
      },
      "execution_count": null,
      "outputs": [
        {
          "output_type": "execute_result",
          "data": {
            "text/plain": [
              "<IPython.lib.display.IFrame at 0x7f063b714d50>"
            ],
            "text/html": [
              "\n",
              "        <iframe\n",
              "            width=\"800\"\n",
              "            height=\"400\"\n",
              "            src=\"https://www.loom.com/embed/12af08aaf7eb4feebb85b318a16b35a3\"\n",
              "            frameborder=\"0\"\n",
              "            allowfullscreen\n",
              "            \n",
              "        ></iframe>\n",
              "        "
            ]
          },
          "metadata": {},
          "execution_count": 7
        }
      ]
    },
    {
      "cell_type": "markdown",
      "source": [
        "### Find Leading Indicators"
      ],
      "metadata": {
        "id": "0tNp4nSB3y6p"
      }
    },
    {
      "cell_type": "code",
      "source": [
        "IFrame(src=\"https://www.loom.com/embed/2b7257d2c59b4fe3b32c52b4940bacc0\",width=800, height=400)"
      ],
      "metadata": {
        "colab": {
          "base_uri": "https://localhost:8080/",
          "height": 422
        },
        "id": "u0qd5ad53yUR",
        "outputId": "87087063-bdfa-4de9-f7be-45cac31c31d6"
      },
      "execution_count": null,
      "outputs": [
        {
          "output_type": "execute_result",
          "data": {
            "text/plain": [
              "<IPython.lib.display.IFrame at 0x7f063b70ee10>"
            ],
            "text/html": [
              "\n",
              "        <iframe\n",
              "            width=\"800\"\n",
              "            height=\"400\"\n",
              "            src=\"https://www.loom.com/embed/2b7257d2c59b4fe3b32c52b4940bacc0\"\n",
              "            frameborder=\"0\"\n",
              "            allowfullscreen\n",
              "            \n",
              "        ></iframe>\n",
              "        "
            ]
          },
          "metadata": {},
          "execution_count": 9
        }
      ]
    },
    {
      "cell_type": "markdown",
      "source": [
        "### Train, Investigate and Compare Single-series Models (Statistical & ML)"
      ],
      "metadata": {
        "id": "r2wQfxLlrwkf"
      }
    },
    {
      "cell_type": "code",
      "source": [
        "IFrame(src=\"https://www.loom.com/embed/9da6846324dc4c719ae14e1bd7cc90ea\",width=800, height=400)"
      ],
      "metadata": {
        "colab": {
          "base_uri": "https://localhost:8080/",
          "height": 422
        },
        "id": "iMnRIXonv0Gy",
        "outputId": "9001f9b6-c812-40ba-916d-a1ef6db9c37b"
      },
      "execution_count": null,
      "outputs": [
        {
          "output_type": "execute_result",
          "data": {
            "text/plain": [
              "<IPython.lib.display.IFrame at 0x7f063b714190>"
            ],
            "text/html": [
              "\n",
              "        <iframe\n",
              "            width=\"800\"\n",
              "            height=\"400\"\n",
              "            src=\"https://www.loom.com/embed/9da6846324dc4c719ae14e1bd7cc90ea\"\n",
              "            frameborder=\"0\"\n",
              "            allowfullscreen\n",
              "            \n",
              "        ></iframe>\n",
              "        "
            ]
          },
          "metadata": {},
          "execution_count": 10
        }
      ]
    },
    {
      "cell_type": "markdown",
      "source": [
        "### Train, Investigate and Compare Multi-series Models (Statistical & ML)\n"
      ],
      "metadata": {
        "id": "1Jhw7PMJzlcO"
      }
    },
    {
      "cell_type": "code",
      "source": [
        "IFrame(src=\"https://www.loom.com/embed/985fc3e2f2fa4e27a8645bd8e213c3e8\",width=800, height=400)"
      ],
      "metadata": {
        "colab": {
          "base_uri": "https://localhost:8080/",
          "height": 422
        },
        "id": "QbfQUeLLzmZ-",
        "outputId": "9a93900d-ecb8-4612-8895-7964cbeca296"
      },
      "execution_count": null,
      "outputs": [
        {
          "output_type": "execute_result",
          "data": {
            "text/plain": [
              "<IPython.lib.display.IFrame at 0x7f063b712b90>"
            ],
            "text/html": [
              "\n",
              "        <iframe\n",
              "            width=\"800\"\n",
              "            height=\"400\"\n",
              "            src=\"https://www.loom.com/embed/985fc3e2f2fa4e27a8645bd8e213c3e8\"\n",
              "            frameborder=\"0\"\n",
              "            allowfullscreen\n",
              "            \n",
              "        ></iframe>\n",
              "        "
            ]
          },
          "metadata": {},
          "execution_count": 11
        }
      ]
    },
    {
      "cell_type": "markdown",
      "source": [
        "## Getting Results from the Interface\n",
        "\n",
        "Praxis complements your existing workflow by visualizing inputs from a DataFrame, then returning preliminary results from your investigative interactions with the interface. \n",
        "\n",
        "Here are different types of information you could get from the interface: "
      ],
      "metadata": {
        "id": "Hbs8b0mwmhQv"
      }
    },
    {
      "cell_type": "markdown",
      "source": [
        "### Models\n",
        "Remark that the `['model']` field contains a Python Darts object that you could use elsewhere."
      ],
      "metadata": {
        "id": "oKoGbyA6o7DX"
      }
    },
    {
      "cell_type": "code",
      "execution_count": null,
      "metadata": {
        "id": "v4cfbZgNzsVF",
        "colab": {
          "base_uri": "https://localhost:8080/"
        },
        "outputId": "7c1b49a3-0c93-4544-edcb-a75741cf01e3"
      },
      "outputs": [
        {
          "output_type": "execute_result",
          "data": {
            "text/plain": [
              "{'Prophet (singleseries)': {'mode': 'forecast',\n",
              "  'start_time': Timestamp('2021-01-01 00:00:00'),\n",
              "  'target_column': 'new_confirmed',\n",
              "  'model': <darts.models.forecasting.prophet_model.Prophet at 0x7f369f409510>,\n",
              "  'model_selection': 'Prophet (singleseries)',\n",
              "  'components': ['cumulative_confirmed'],\n",
              "  'forecast_length': 20,\n",
              "  'forecast_samples': 1,\n",
              "  'disable_future_cov': False}}"
            ]
          },
          "metadata": {},
          "execution_count": 7
        }
      ],
      "source": [
        "praxis.get_model()"
      ]
    },
    {
      "cell_type": "markdown",
      "source": [
        "### Forecasts\n",
        "\n",
        "Forecasts are broken down by models, percentiles (for probabilistic inference), and whether it's a prediction or a residual (actual - prediction)."
      ],
      "metadata": {
        "id": "zQuBnMZHpKi9"
      }
    },
    {
      "cell_type": "code",
      "execution_count": null,
      "metadata": {
        "scrolled": false,
        "id": "_rGpsznqzsVF",
        "outputId": "b9241ce9-54cc-4f7d-8648-2e09001517c9",
        "colab": {
          "base_uri": "https://localhost:8080/",
          "height": 206
        }
      },
      "outputs": [
        {
          "output_type": "execute_result",
          "data": {
            "text/plain": [
              "            prediction\n",
              "2021-01-01  123.414772\n",
              "2021-01-02  126.344334\n",
              "2021-01-03  126.626960\n",
              "2021-01-04  126.420224\n",
              "2021-01-05  126.872941"
            ],
            "text/html": [
              "\n",
              "  <div id=\"df-58b4f940-0f8f-4cab-bc85-a31958574820\">\n",
              "    <div class=\"colab-df-container\">\n",
              "      <div>\n",
              "<style scoped>\n",
              "    .dataframe tbody tr th:only-of-type {\n",
              "        vertical-align: middle;\n",
              "    }\n",
              "\n",
              "    .dataframe tbody tr th {\n",
              "        vertical-align: top;\n",
              "    }\n",
              "\n",
              "    .dataframe thead th {\n",
              "        text-align: right;\n",
              "    }\n",
              "</style>\n",
              "<table border=\"1\" class=\"dataframe\">\n",
              "  <thead>\n",
              "    <tr style=\"text-align: right;\">\n",
              "      <th></th>\n",
              "      <th>prediction</th>\n",
              "    </tr>\n",
              "  </thead>\n",
              "  <tbody>\n",
              "    <tr>\n",
              "      <th>2021-01-01</th>\n",
              "      <td>123.414772</td>\n",
              "    </tr>\n",
              "    <tr>\n",
              "      <th>2021-01-02</th>\n",
              "      <td>126.344334</td>\n",
              "    </tr>\n",
              "    <tr>\n",
              "      <th>2021-01-03</th>\n",
              "      <td>126.626960</td>\n",
              "    </tr>\n",
              "    <tr>\n",
              "      <th>2021-01-04</th>\n",
              "      <td>126.420224</td>\n",
              "    </tr>\n",
              "    <tr>\n",
              "      <th>2021-01-05</th>\n",
              "      <td>126.872941</td>\n",
              "    </tr>\n",
              "  </tbody>\n",
              "</table>\n",
              "</div>\n",
              "      <button class=\"colab-df-convert\" onclick=\"convertToInteractive('df-58b4f940-0f8f-4cab-bc85-a31958574820')\"\n",
              "              title=\"Convert this dataframe to an interactive table.\"\n",
              "              style=\"display:none;\">\n",
              "        \n",
              "  <svg xmlns=\"http://www.w3.org/2000/svg\" height=\"24px\"viewBox=\"0 0 24 24\"\n",
              "       width=\"24px\">\n",
              "    <path d=\"M0 0h24v24H0V0z\" fill=\"none\"/>\n",
              "    <path d=\"M18.56 5.44l.94 2.06.94-2.06 2.06-.94-2.06-.94-.94-2.06-.94 2.06-2.06.94zm-11 1L8.5 8.5l.94-2.06 2.06-.94-2.06-.94L8.5 2.5l-.94 2.06-2.06.94zm10 10l.94 2.06.94-2.06 2.06-.94-2.06-.94-.94-2.06-.94 2.06-2.06.94z\"/><path d=\"M17.41 7.96l-1.37-1.37c-.4-.4-.92-.59-1.43-.59-.52 0-1.04.2-1.43.59L10.3 9.45l-7.72 7.72c-.78.78-.78 2.05 0 2.83L4 21.41c.39.39.9.59 1.41.59.51 0 1.02-.2 1.41-.59l7.78-7.78 2.81-2.81c.8-.78.8-2.07 0-2.86zM5.41 20L4 18.59l7.72-7.72 1.47 1.35L5.41 20z\"/>\n",
              "  </svg>\n",
              "      </button>\n",
              "      \n",
              "  <style>\n",
              "    .colab-df-container {\n",
              "      display:flex;\n",
              "      flex-wrap:wrap;\n",
              "      gap: 12px;\n",
              "    }\n",
              "\n",
              "    .colab-df-convert {\n",
              "      background-color: #E8F0FE;\n",
              "      border: none;\n",
              "      border-radius: 50%;\n",
              "      cursor: pointer;\n",
              "      display: none;\n",
              "      fill: #1967D2;\n",
              "      height: 32px;\n",
              "      padding: 0 0 0 0;\n",
              "      width: 32px;\n",
              "    }\n",
              "\n",
              "    .colab-df-convert:hover {\n",
              "      background-color: #E2EBFA;\n",
              "      box-shadow: 0px 1px 2px rgba(60, 64, 67, 0.3), 0px 1px 3px 1px rgba(60, 64, 67, 0.15);\n",
              "      fill: #174EA6;\n",
              "    }\n",
              "\n",
              "    [theme=dark] .colab-df-convert {\n",
              "      background-color: #3B4455;\n",
              "      fill: #D2E3FC;\n",
              "    }\n",
              "\n",
              "    [theme=dark] .colab-df-convert:hover {\n",
              "      background-color: #434B5C;\n",
              "      box-shadow: 0px 1px 3px 1px rgba(0, 0, 0, 0.15);\n",
              "      filter: drop-shadow(0px 1px 2px rgba(0, 0, 0, 0.3));\n",
              "      fill: #FFFFFF;\n",
              "    }\n",
              "  </style>\n",
              "\n",
              "      <script>\n",
              "        const buttonEl =\n",
              "          document.querySelector('#df-58b4f940-0f8f-4cab-bc85-a31958574820 button.colab-df-convert');\n",
              "        buttonEl.style.display =\n",
              "          google.colab.kernel.accessAllowed ? 'block' : 'none';\n",
              "\n",
              "        async function convertToInteractive(key) {\n",
              "          const element = document.querySelector('#df-58b4f940-0f8f-4cab-bc85-a31958574820');\n",
              "          const dataTable =\n",
              "            await google.colab.kernel.invokeFunction('convertToInteractive',\n",
              "                                                     [key], {});\n",
              "          if (!dataTable) return;\n",
              "\n",
              "          const docLinkHtml = 'Like what you see? Visit the ' +\n",
              "            '<a target=\"_blank\" href=https://colab.research.google.com/notebooks/data_table.ipynb>data table notebook</a>'\n",
              "            + ' to learn more about interactive tables.';\n",
              "          element.innerHTML = '';\n",
              "          dataTable['output_type'] = 'display_data';\n",
              "          await google.colab.output.renderOutput(dataTable, element);\n",
              "          const docLink = document.createElement('div');\n",
              "          docLink.innerHTML = docLinkHtml;\n",
              "          element.appendChild(docLink);\n",
              "        }\n",
              "      </script>\n",
              "    </div>\n",
              "  </div>\n",
              "  "
            ]
          },
          "metadata": {},
          "execution_count": 8
        }
      ],
      "source": [
        "forecast = praxis.get_forecast()\n",
        "forecast['prediction']['Prophet (singleseries)']['0.05'].head()"
      ]
    },
    {
      "cell_type": "markdown",
      "source": [
        "### Metrics\n",
        "\n",
        "Currently, we support calculating symmetric mean absolute percentage error (SMAPE) and root mean squared error (RMSE)."
      ],
      "metadata": {
        "id": "YLr2-4Gbp_Sp"
      }
    },
    {
      "cell_type": "code",
      "source": [
        "praxis.get_metrics()"
      ],
      "metadata": {
        "colab": {
          "base_uri": "https://localhost:8080/"
        },
        "id": "d34S0C25piW0",
        "outputId": "ded2524a-428a-41df-8d80-4d77e6b3a6b4"
      },
      "execution_count": null,
      "outputs": [
        {
          "output_type": "execute_result",
          "data": {
            "text/plain": [
              "{'Prophet (singleseries)': {'smape': 21.53, 'rmse': 39.09}}"
            ]
          },
          "metadata": {},
          "execution_count": 9
        }
      ]
    },
    {
      "cell_type": "markdown",
      "source": [
        "### Train/test Split\n",
        "\n",
        "To help with accelerating your prototyping process, you could easily export the train/test split in interface into respective DataFrames, so that it's easier to run on your more complex training pipeline."
      ],
      "metadata": {
        "id": "_hHfJ9T3qX1K"
      }
    },
    {
      "cell_type": "code",
      "source": [
        "train, test = praxis.to_dataframe()"
      ],
      "metadata": {
        "id": "_E0KsXoYqVxq"
      },
      "execution_count": null,
      "outputs": []
    },
    {
      "cell_type": "markdown",
      "source": [
        "## Tutorial: Finding Your First Data Driver in the Demo Dataset\n",
        "\n",
        "Now that you are familiar with the basic interactive components of the interface, this tutorial will demonstrate how to use the tool to discover important drivers on our demo dataset.\n",
        "\n",
        "\n",
        "### The Data\n",
        "\n",
        "The demo dataset we are using is a subset of `bigquery-public-data.covid19_open_data` available on Google BigQuery, cleaned and formatted for use inside the Praxis interface. It contains daily time-series data related to COVID-19. You can find the list of sources available here: https://github.com/open-covid-19/data."
      ],
      "metadata": {
        "id": "qa4ZIdCWOOyF"
      }
    },
    {
      "cell_type": "code",
      "source": [
        "df # get a glimpse of the dataset."
      ],
      "metadata": {
        "id": "1kuuxZMpUeRq",
        "outputId": "676807b2-23ba-41c2-ea6d-1a7614e3cc6d",
        "colab": {
          "base_uri": "https://localhost:8080/",
          "height": 488
        }
      },
      "execution_count": null,
      "outputs": [
        {
          "output_type": "execute_result",
          "data": {
            "text/plain": [
              "            date     id  new_confirmed  new_deceased  cumulative_confirmed  \\\n",
              "0     2020-01-01  US_AK       0.000000      0.000000              0.000000   \n",
              "1     2020-01-02  US_AK       0.000000      0.000000              0.000000   \n",
              "2     2020-01-03  US_AK       0.000000      0.000000              0.000000   \n",
              "3     2020-01-04  US_AK       0.000000      0.000000              0.000000   \n",
              "4     2020-01-05  US_AK       0.000000      0.000000              0.000000   \n",
              "...          ...    ...            ...           ...                   ...   \n",
              "53531 2022-08-09  US_WY     767.727060      6.000001         172089.136470   \n",
              "53532 2022-08-10  US_WY     255.909020      2.000000         172345.045490   \n",
              "53533 2022-08-11  US_WY      85.303007      0.666667         172430.348497   \n",
              "53534 2022-08-12  US_WY      28.434336      0.222222          57476.782832   \n",
              "53535 2022-08-13  US_WY       9.478112      0.074074          19158.927611   \n",
              "\n",
              "       cumulative_deceased  new_persons_vaccinated  \\\n",
              "0                 0.000000                0.000000   \n",
              "1                 0.000000                0.000000   \n",
              "2                 0.000000                0.000000   \n",
              "3                 0.000000                0.000000   \n",
              "4                 0.000000                0.000000   \n",
              "...                    ...                     ...   \n",
              "53531          1862.000000                0.000669   \n",
              "53532          1864.000000                0.000223   \n",
              "53533          1864.666667              152.666741   \n",
              "53534           621.555556               50.888914   \n",
              "53535           207.185185               16.962971   \n",
              "\n",
              "       cumulative_persons_vaccinated  new_persons_fully_vaccinated  \\\n",
              "0                           0.000000                      0.000000   \n",
              "1                           0.000000                      0.000000   \n",
              "2                           0.000000                      0.000000   \n",
              "3                           0.000000                      0.000000   \n",
              "4                           0.000000                      0.000000   \n",
              "...                              ...                           ...   \n",
              "53531                  341423.018870                      1.004531   \n",
              "53532                  341423.006290                      0.334844   \n",
              "53533                  341575.668763                    306.111615   \n",
              "53534                  341626.556254                    102.037205   \n",
              "53535                  113875.518751                     34.012402   \n",
              "\n",
              "       cumulative_persons_fully_vaccinated  ...  \\\n",
              "0                                 0.000000  ...   \n",
              "1                                 0.000000  ...   \n",
              "2                                 0.000000  ...   \n",
              "3                                 0.000000  ...   \n",
              "4                                 0.000000  ...   \n",
              "...                                    ...  ...   \n",
              "53531                        298931.497735  ...   \n",
              "53532                        298931.832578  ...   \n",
              "53533                        299237.944193  ...   \n",
              "53534                        299339.981398  ...   \n",
              "53535                         99779.993799  ...   \n",
              "\n",
              "       new_vaccine_doses_administered_pfizer  \\\n",
              "0                                   0.000000   \n",
              "1                                   0.000000   \n",
              "2                                   0.000000   \n",
              "3                                   0.000000   \n",
              "4                                   0.000000   \n",
              "...                                      ...   \n",
              "53531                               2.457173   \n",
              "53532                               0.819058   \n",
              "53533                             314.939686   \n",
              "53534                             104.979895   \n",
              "53535                              34.993298   \n",
              "\n",
              "       cumulative_vaccine_doses_administered_pfizer  \\\n",
              "0                                          0.000000   \n",
              "1                                          0.000000   \n",
              "2                                          0.000000   \n",
              "3                                          0.000000   \n",
              "4                                          0.000000   \n",
              "...                                             ...   \n",
              "53531                                 401370.771414   \n",
              "53532                                 401371.590471   \n",
              "53533                                 401686.530157   \n",
              "53534                                 401791.510052   \n",
              "53535                                 133930.503351   \n",
              "\n",
              "       new_persons_fully_vaccinated_moderna  \\\n",
              "0                                  0.000000   \n",
              "1                                  0.000000   \n",
              "2                                  0.000000   \n",
              "3                                  0.000000   \n",
              "4                                  0.000000   \n",
              "...                                     ...   \n",
              "53531                              0.502280   \n",
              "53532                              0.167427   \n",
              "53533                            149.389142   \n",
              "53534                             49.796381   \n",
              "53535                             16.598794   \n",
              "\n",
              "       cumulative_persons_fully_vaccinated_moderna  \\\n",
              "0                                         0.000000   \n",
              "1                                         0.000000   \n",
              "2                                         0.000000   \n",
              "3                                         0.000000   \n",
              "4                                         0.000000   \n",
              "...                                            ...   \n",
              "53531                                121411.748860   \n",
              "53532                                121411.916287   \n",
              "53533                                121561.305429   \n",
              "53534                                121611.101810   \n",
              "53535                                 40537.033937   \n",
              "\n",
              "       new_vaccine_doses_administered_moderna  \\\n",
              "0                                    0.000000   \n",
              "1                                    0.000000   \n",
              "2                                    0.000000   \n",
              "3                                    0.000000   \n",
              "4                                    0.000000   \n",
              "...                                       ...   \n",
              "53531                                2.972672   \n",
              "53532                                0.990891   \n",
              "53533                              258.330297   \n",
              "53534                               86.110099   \n",
              "53535                               28.703366   \n",
              "\n",
              "       cumulative_vaccine_doses_administered_moderna  \\\n",
              "0                                           0.000000   \n",
              "1                                           0.000000   \n",
              "2                                           0.000000   \n",
              "3                                           0.000000   \n",
              "4                                           0.000000   \n",
              "...                                              ...   \n",
              "53531                                  341851.513664   \n",
              "53532                                  341852.504555   \n",
              "53533                                  342110.834852   \n",
              "53534                                  342196.944951   \n",
              "53535                                  114065.648317   \n",
              "\n",
              "       new_persons_fully_vaccinated_janssen  \\\n",
              "0                                  0.000000   \n",
              "1                                  0.000000   \n",
              "2                                  0.000000   \n",
              "3                                  0.000000   \n",
              "4                                  0.000000   \n",
              "...                                     ...   \n",
              "53531                              0.049405   \n",
              "53532                              0.016468   \n",
              "53533                              5.338823   \n",
              "53534                              1.779608   \n",
              "53535                              0.593203   \n",
              "\n",
              "       cumulative_persons_fully_vaccinated_janssen  \\\n",
              "0                                         0.000000   \n",
              "1                                         0.000000   \n",
              "2                                         0.000000   \n",
              "3                                         0.000000   \n",
              "4                                         0.000000   \n",
              "...                                            ...   \n",
              "53531                                 26924.975297   \n",
              "53532                                 26924.991766   \n",
              "53533                                 26930.330589   \n",
              "53534                                 26932.110196   \n",
              "53535                                  8977.370065   \n",
              "\n",
              "       new_vaccine_doses_administered_janssen  \\\n",
              "0                                    0.000000   \n",
              "1                                    0.000000   \n",
              "2                                    0.000000   \n",
              "3                                    0.000000   \n",
              "4                                    0.000000   \n",
              "...                                       ...   \n",
              "53531                                0.079584   \n",
              "53532                                0.026528   \n",
              "53533                                4.675509   \n",
              "53534                                1.558503   \n",
              "53535                                0.519501   \n",
              "\n",
              "       cumulative_vaccine_doses_administered_janssen  \n",
              "0                                           0.000000  \n",
              "1                                           0.000000  \n",
              "2                                           0.000000  \n",
              "3                                           0.000000  \n",
              "4                                           0.000000  \n",
              "...                                              ...  \n",
              "53531                                   28970.960208  \n",
              "53532                                   28970.986736  \n",
              "53533                                   28975.662245  \n",
              "53534                                   28977.220748  \n",
              "53535                                    9659.073583  \n",
              "\n",
              "[53536 rows x 420 columns]"
            ],
            "text/html": [
              "\n",
              "  <div id=\"df-1d686c4c-8712-41b0-a734-07e52f81f780\">\n",
              "    <div class=\"colab-df-container\">\n",
              "      <div>\n",
              "<style scoped>\n",
              "    .dataframe tbody tr th:only-of-type {\n",
              "        vertical-align: middle;\n",
              "    }\n",
              "\n",
              "    .dataframe tbody tr th {\n",
              "        vertical-align: top;\n",
              "    }\n",
              "\n",
              "    .dataframe thead th {\n",
              "        text-align: right;\n",
              "    }\n",
              "</style>\n",
              "<table border=\"1\" class=\"dataframe\">\n",
              "  <thead>\n",
              "    <tr style=\"text-align: right;\">\n",
              "      <th></th>\n",
              "      <th>date</th>\n",
              "      <th>id</th>\n",
              "      <th>new_confirmed</th>\n",
              "      <th>new_deceased</th>\n",
              "      <th>cumulative_confirmed</th>\n",
              "      <th>cumulative_deceased</th>\n",
              "      <th>new_persons_vaccinated</th>\n",
              "      <th>cumulative_persons_vaccinated</th>\n",
              "      <th>new_persons_fully_vaccinated</th>\n",
              "      <th>cumulative_persons_fully_vaccinated</th>\n",
              "      <th>...</th>\n",
              "      <th>new_vaccine_doses_administered_pfizer</th>\n",
              "      <th>cumulative_vaccine_doses_administered_pfizer</th>\n",
              "      <th>new_persons_fully_vaccinated_moderna</th>\n",
              "      <th>cumulative_persons_fully_vaccinated_moderna</th>\n",
              "      <th>new_vaccine_doses_administered_moderna</th>\n",
              "      <th>cumulative_vaccine_doses_administered_moderna</th>\n",
              "      <th>new_persons_fully_vaccinated_janssen</th>\n",
              "      <th>cumulative_persons_fully_vaccinated_janssen</th>\n",
              "      <th>new_vaccine_doses_administered_janssen</th>\n",
              "      <th>cumulative_vaccine_doses_administered_janssen</th>\n",
              "    </tr>\n",
              "  </thead>\n",
              "  <tbody>\n",
              "    <tr>\n",
              "      <th>0</th>\n",
              "      <td>2020-01-01</td>\n",
              "      <td>US_AK</td>\n",
              "      <td>0.000000</td>\n",
              "      <td>0.000000</td>\n",
              "      <td>0.000000</td>\n",
              "      <td>0.000000</td>\n",
              "      <td>0.000000</td>\n",
              "      <td>0.000000</td>\n",
              "      <td>0.000000</td>\n",
              "      <td>0.000000</td>\n",
              "      <td>...</td>\n",
              "      <td>0.000000</td>\n",
              "      <td>0.000000</td>\n",
              "      <td>0.000000</td>\n",
              "      <td>0.000000</td>\n",
              "      <td>0.000000</td>\n",
              "      <td>0.000000</td>\n",
              "      <td>0.000000</td>\n",
              "      <td>0.000000</td>\n",
              "      <td>0.000000</td>\n",
              "      <td>0.000000</td>\n",
              "    </tr>\n",
              "    <tr>\n",
              "      <th>1</th>\n",
              "      <td>2020-01-02</td>\n",
              "      <td>US_AK</td>\n",
              "      <td>0.000000</td>\n",
              "      <td>0.000000</td>\n",
              "      <td>0.000000</td>\n",
              "      <td>0.000000</td>\n",
              "      <td>0.000000</td>\n",
              "      <td>0.000000</td>\n",
              "      <td>0.000000</td>\n",
              "      <td>0.000000</td>\n",
              "      <td>...</td>\n",
              "      <td>0.000000</td>\n",
              "      <td>0.000000</td>\n",
              "      <td>0.000000</td>\n",
              "      <td>0.000000</td>\n",
              "      <td>0.000000</td>\n",
              "      <td>0.000000</td>\n",
              "      <td>0.000000</td>\n",
              "      <td>0.000000</td>\n",
              "      <td>0.000000</td>\n",
              "      <td>0.000000</td>\n",
              "    </tr>\n",
              "    <tr>\n",
              "      <th>2</th>\n",
              "      <td>2020-01-03</td>\n",
              "      <td>US_AK</td>\n",
              "      <td>0.000000</td>\n",
              "      <td>0.000000</td>\n",
              "      <td>0.000000</td>\n",
              "      <td>0.000000</td>\n",
              "      <td>0.000000</td>\n",
              "      <td>0.000000</td>\n",
              "      <td>0.000000</td>\n",
              "      <td>0.000000</td>\n",
              "      <td>...</td>\n",
              "      <td>0.000000</td>\n",
              "      <td>0.000000</td>\n",
              "      <td>0.000000</td>\n",
              "      <td>0.000000</td>\n",
              "      <td>0.000000</td>\n",
              "      <td>0.000000</td>\n",
              "      <td>0.000000</td>\n",
              "      <td>0.000000</td>\n",
              "      <td>0.000000</td>\n",
              "      <td>0.000000</td>\n",
              "    </tr>\n",
              "    <tr>\n",
              "      <th>3</th>\n",
              "      <td>2020-01-04</td>\n",
              "      <td>US_AK</td>\n",
              "      <td>0.000000</td>\n",
              "      <td>0.000000</td>\n",
              "      <td>0.000000</td>\n",
              "      <td>0.000000</td>\n",
              "      <td>0.000000</td>\n",
              "      <td>0.000000</td>\n",
              "      <td>0.000000</td>\n",
              "      <td>0.000000</td>\n",
              "      <td>...</td>\n",
              "      <td>0.000000</td>\n",
              "      <td>0.000000</td>\n",
              "      <td>0.000000</td>\n",
              "      <td>0.000000</td>\n",
              "      <td>0.000000</td>\n",
              "      <td>0.000000</td>\n",
              "      <td>0.000000</td>\n",
              "      <td>0.000000</td>\n",
              "      <td>0.000000</td>\n",
              "      <td>0.000000</td>\n",
              "    </tr>\n",
              "    <tr>\n",
              "      <th>4</th>\n",
              "      <td>2020-01-05</td>\n",
              "      <td>US_AK</td>\n",
              "      <td>0.000000</td>\n",
              "      <td>0.000000</td>\n",
              "      <td>0.000000</td>\n",
              "      <td>0.000000</td>\n",
              "      <td>0.000000</td>\n",
              "      <td>0.000000</td>\n",
              "      <td>0.000000</td>\n",
              "      <td>0.000000</td>\n",
              "      <td>...</td>\n",
              "      <td>0.000000</td>\n",
              "      <td>0.000000</td>\n",
              "      <td>0.000000</td>\n",
              "      <td>0.000000</td>\n",
              "      <td>0.000000</td>\n",
              "      <td>0.000000</td>\n",
              "      <td>0.000000</td>\n",
              "      <td>0.000000</td>\n",
              "      <td>0.000000</td>\n",
              "      <td>0.000000</td>\n",
              "    </tr>\n",
              "    <tr>\n",
              "      <th>...</th>\n",
              "      <td>...</td>\n",
              "      <td>...</td>\n",
              "      <td>...</td>\n",
              "      <td>...</td>\n",
              "      <td>...</td>\n",
              "      <td>...</td>\n",
              "      <td>...</td>\n",
              "      <td>...</td>\n",
              "      <td>...</td>\n",
              "      <td>...</td>\n",
              "      <td>...</td>\n",
              "      <td>...</td>\n",
              "      <td>...</td>\n",
              "      <td>...</td>\n",
              "      <td>...</td>\n",
              "      <td>...</td>\n",
              "      <td>...</td>\n",
              "      <td>...</td>\n",
              "      <td>...</td>\n",
              "      <td>...</td>\n",
              "      <td>...</td>\n",
              "    </tr>\n",
              "    <tr>\n",
              "      <th>53531</th>\n",
              "      <td>2022-08-09</td>\n",
              "      <td>US_WY</td>\n",
              "      <td>767.727060</td>\n",
              "      <td>6.000001</td>\n",
              "      <td>172089.136470</td>\n",
              "      <td>1862.000000</td>\n",
              "      <td>0.000669</td>\n",
              "      <td>341423.018870</td>\n",
              "      <td>1.004531</td>\n",
              "      <td>298931.497735</td>\n",
              "      <td>...</td>\n",
              "      <td>2.457173</td>\n",
              "      <td>401370.771414</td>\n",
              "      <td>0.502280</td>\n",
              "      <td>121411.748860</td>\n",
              "      <td>2.972672</td>\n",
              "      <td>341851.513664</td>\n",
              "      <td>0.049405</td>\n",
              "      <td>26924.975297</td>\n",
              "      <td>0.079584</td>\n",
              "      <td>28970.960208</td>\n",
              "    </tr>\n",
              "    <tr>\n",
              "      <th>53532</th>\n",
              "      <td>2022-08-10</td>\n",
              "      <td>US_WY</td>\n",
              "      <td>255.909020</td>\n",
              "      <td>2.000000</td>\n",
              "      <td>172345.045490</td>\n",
              "      <td>1864.000000</td>\n",
              "      <td>0.000223</td>\n",
              "      <td>341423.006290</td>\n",
              "      <td>0.334844</td>\n",
              "      <td>298931.832578</td>\n",
              "      <td>...</td>\n",
              "      <td>0.819058</td>\n",
              "      <td>401371.590471</td>\n",
              "      <td>0.167427</td>\n",
              "      <td>121411.916287</td>\n",
              "      <td>0.990891</td>\n",
              "      <td>341852.504555</td>\n",
              "      <td>0.016468</td>\n",
              "      <td>26924.991766</td>\n",
              "      <td>0.026528</td>\n",
              "      <td>28970.986736</td>\n",
              "    </tr>\n",
              "    <tr>\n",
              "      <th>53533</th>\n",
              "      <td>2022-08-11</td>\n",
              "      <td>US_WY</td>\n",
              "      <td>85.303007</td>\n",
              "      <td>0.666667</td>\n",
              "      <td>172430.348497</td>\n",
              "      <td>1864.666667</td>\n",
              "      <td>152.666741</td>\n",
              "      <td>341575.668763</td>\n",
              "      <td>306.111615</td>\n",
              "      <td>299237.944193</td>\n",
              "      <td>...</td>\n",
              "      <td>314.939686</td>\n",
              "      <td>401686.530157</td>\n",
              "      <td>149.389142</td>\n",
              "      <td>121561.305429</td>\n",
              "      <td>258.330297</td>\n",
              "      <td>342110.834852</td>\n",
              "      <td>5.338823</td>\n",
              "      <td>26930.330589</td>\n",
              "      <td>4.675509</td>\n",
              "      <td>28975.662245</td>\n",
              "    </tr>\n",
              "    <tr>\n",
              "      <th>53534</th>\n",
              "      <td>2022-08-12</td>\n",
              "      <td>US_WY</td>\n",
              "      <td>28.434336</td>\n",
              "      <td>0.222222</td>\n",
              "      <td>57476.782832</td>\n",
              "      <td>621.555556</td>\n",
              "      <td>50.888914</td>\n",
              "      <td>341626.556254</td>\n",
              "      <td>102.037205</td>\n",
              "      <td>299339.981398</td>\n",
              "      <td>...</td>\n",
              "      <td>104.979895</td>\n",
              "      <td>401791.510052</td>\n",
              "      <td>49.796381</td>\n",
              "      <td>121611.101810</td>\n",
              "      <td>86.110099</td>\n",
              "      <td>342196.944951</td>\n",
              "      <td>1.779608</td>\n",
              "      <td>26932.110196</td>\n",
              "      <td>1.558503</td>\n",
              "      <td>28977.220748</td>\n",
              "    </tr>\n",
              "    <tr>\n",
              "      <th>53535</th>\n",
              "      <td>2022-08-13</td>\n",
              "      <td>US_WY</td>\n",
              "      <td>9.478112</td>\n",
              "      <td>0.074074</td>\n",
              "      <td>19158.927611</td>\n",
              "      <td>207.185185</td>\n",
              "      <td>16.962971</td>\n",
              "      <td>113875.518751</td>\n",
              "      <td>34.012402</td>\n",
              "      <td>99779.993799</td>\n",
              "      <td>...</td>\n",
              "      <td>34.993298</td>\n",
              "      <td>133930.503351</td>\n",
              "      <td>16.598794</td>\n",
              "      <td>40537.033937</td>\n",
              "      <td>28.703366</td>\n",
              "      <td>114065.648317</td>\n",
              "      <td>0.593203</td>\n",
              "      <td>8977.370065</td>\n",
              "      <td>0.519501</td>\n",
              "      <td>9659.073583</td>\n",
              "    </tr>\n",
              "  </tbody>\n",
              "</table>\n",
              "<p>53536 rows × 420 columns</p>\n",
              "</div>\n",
              "      <button class=\"colab-df-convert\" onclick=\"convertToInteractive('df-1d686c4c-8712-41b0-a734-07e52f81f780')\"\n",
              "              title=\"Convert this dataframe to an interactive table.\"\n",
              "              style=\"display:none;\">\n",
              "        \n",
              "  <svg xmlns=\"http://www.w3.org/2000/svg\" height=\"24px\"viewBox=\"0 0 24 24\"\n",
              "       width=\"24px\">\n",
              "    <path d=\"M0 0h24v24H0V0z\" fill=\"none\"/>\n",
              "    <path d=\"M18.56 5.44l.94 2.06.94-2.06 2.06-.94-2.06-.94-.94-2.06-.94 2.06-2.06.94zm-11 1L8.5 8.5l.94-2.06 2.06-.94-2.06-.94L8.5 2.5l-.94 2.06-2.06.94zm10 10l.94 2.06.94-2.06 2.06-.94-2.06-.94-.94-2.06-.94 2.06-2.06.94z\"/><path d=\"M17.41 7.96l-1.37-1.37c-.4-.4-.92-.59-1.43-.59-.52 0-1.04.2-1.43.59L10.3 9.45l-7.72 7.72c-.78.78-.78 2.05 0 2.83L4 21.41c.39.39.9.59 1.41.59.51 0 1.02-.2 1.41-.59l7.78-7.78 2.81-2.81c.8-.78.8-2.07 0-2.86zM5.41 20L4 18.59l7.72-7.72 1.47 1.35L5.41 20z\"/>\n",
              "  </svg>\n",
              "      </button>\n",
              "      \n",
              "  <style>\n",
              "    .colab-df-container {\n",
              "      display:flex;\n",
              "      flex-wrap:wrap;\n",
              "      gap: 12px;\n",
              "    }\n",
              "\n",
              "    .colab-df-convert {\n",
              "      background-color: #E8F0FE;\n",
              "      border: none;\n",
              "      border-radius: 50%;\n",
              "      cursor: pointer;\n",
              "      display: none;\n",
              "      fill: #1967D2;\n",
              "      height: 32px;\n",
              "      padding: 0 0 0 0;\n",
              "      width: 32px;\n",
              "    }\n",
              "\n",
              "    .colab-df-convert:hover {\n",
              "      background-color: #E2EBFA;\n",
              "      box-shadow: 0px 1px 2px rgba(60, 64, 67, 0.3), 0px 1px 3px 1px rgba(60, 64, 67, 0.15);\n",
              "      fill: #174EA6;\n",
              "    }\n",
              "\n",
              "    [theme=dark] .colab-df-convert {\n",
              "      background-color: #3B4455;\n",
              "      fill: #D2E3FC;\n",
              "    }\n",
              "\n",
              "    [theme=dark] .colab-df-convert:hover {\n",
              "      background-color: #434B5C;\n",
              "      box-shadow: 0px 1px 3px 1px rgba(0, 0, 0, 0.15);\n",
              "      filter: drop-shadow(0px 1px 2px rgba(0, 0, 0, 0.3));\n",
              "      fill: #FFFFFF;\n",
              "    }\n",
              "  </style>\n",
              "\n",
              "      <script>\n",
              "        const buttonEl =\n",
              "          document.querySelector('#df-1d686c4c-8712-41b0-a734-07e52f81f780 button.colab-df-convert');\n",
              "        buttonEl.style.display =\n",
              "          google.colab.kernel.accessAllowed ? 'block' : 'none';\n",
              "\n",
              "        async function convertToInteractive(key) {\n",
              "          const element = document.querySelector('#df-1d686c4c-8712-41b0-a734-07e52f81f780');\n",
              "          const dataTable =\n",
              "            await google.colab.kernel.invokeFunction('convertToInteractive',\n",
              "                                                     [key], {});\n",
              "          if (!dataTable) return;\n",
              "\n",
              "          const docLinkHtml = 'Like what you see? Visit the ' +\n",
              "            '<a target=\"_blank\" href=https://colab.research.google.com/notebooks/data_table.ipynb>data table notebook</a>'\n",
              "            + ' to learn more about interactive tables.';\n",
              "          element.innerHTML = '';\n",
              "          dataTable['output_type'] = 'display_data';\n",
              "          await google.colab.output.renderOutput(dataTable, element);\n",
              "          const docLink = document.createElement('div');\n",
              "          docLink.innerHTML = docLinkHtml;\n",
              "          element.appendChild(docLink);\n",
              "        }\n",
              "      </script>\n",
              "    </div>\n",
              "  </div>\n",
              "  "
            ]
          },
          "metadata": {},
          "execution_count": 24
        }
      ]
    },
    {
      "cell_type": "code",
      "source": [
        "praxis.run(mode=\"external\") # run the interface again."
      ],
      "metadata": {
        "id": "PhPFHadOqs6r"
      },
      "execution_count": null,
      "outputs": []
    },
    {
      "cell_type": "markdown",
      "source": [
        "Let's say we'd like to predict the `new_deceased` column for the `US_CA` time-series starting at 03/01/2021, 20 days into the future. We'll use [CatBoost](https://catboost.ai/) for a baseline model:\n",
        "\n",
        "\n",
        "![baseline](https://drive.google.com/uc?id=1C2idiBK1HIKc_9i01wFePfuhhD9wif8N)"
      ],
      "metadata": {
        "id": "oarezmUuYf0M"
      }
    },
    {
      "cell_type": "markdown",
      "source": [
        "We now have a 64.26% SMAPE, which is not great. We will now use the leading indicator search to find potential data drivers: \n",
        "\n",
        "![baseline](https://drive.google.com/uc?id=1_i3pV2wfb2GZzyrS6pUsbHdN1t5ftU54)"
      ],
      "metadata": {
        "id": "EeFphAxEdCHO"
      }
    },
    {
      "cell_type": "markdown",
      "source": [
        "We've now found some interesting candidate leading indicators that may improve our results. We will pick the covariate that have the lowest f-value: `search_trends_hypoxia` and retrain the model.\n",
        "\n",
        "\n",
        "![new-model](https://drive.google.com/uc?id=1zIRsYX7-Rh4xR4-tBQ2rWaBYLqvrYTPW)"
      ],
      "metadata": {
        "id": "3-xzbkAKe-wa"
      }
    },
    {
      "cell_type": "markdown",
      "source": [
        "As shown above, we are able to achieve a 30% improvement (64.26% -> 34.56%) with the Praxis tool by finding core data drivers in your time-series dataset and fast iteration of using investigative baseline models to measure the quality of your features."
      ],
      "metadata": {
        "id": "hsrnqfXWgL2a"
      }
    }
  ],
  "metadata": {
    "kernelspec": {
      "display_name": "Python 3",
      "language": "python",
      "name": "python3"
    },
    "language_info": {
      "codemirror_mode": {
        "name": "ipython",
        "version": 3
      },
      "file_extension": ".py",
      "mimetype": "text/x-python",
      "name": "python",
      "nbconvert_exporter": "python",
      "pygments_lexer": "ipython3",
      "version": "3.8.8"
    },
    "vscode": {
      "interpreter": {
        "hash": "b0fa6594d8f4cbf19f97940f81e996739fb7646882a419484c72d19e05852a7e"
      }
    },
    "colab": {
      "name": "Introduction to Praxis - v0.0.9",
      "provenance": [],
      "collapsed_sections": []
    }
  },
  "nbformat": 4,
  "nbformat_minor": 0
}