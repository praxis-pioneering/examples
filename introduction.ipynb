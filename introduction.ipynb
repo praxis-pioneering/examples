{
  "cells": [
    {
      "cell_type": "markdown",
      "metadata": {
        "id": "SCzKMNCOzsVC"
      },
      "source": [
        "# Introduction to Praxis\n",
        "\n",
        "Praxis is a tool that helps machine learning teams reason about data that evolves over time. 📈\n",
        "\n",
        "### Features\n",
        "\n",
        "* Intuitive interface that quickly visualizes time-series (as pandas DataFrames) and their decompositions\n",
        "* Easily adds covariates to your target series\n",
        "* Performs train-test split and exports corresponding DataFrames\n",
        "* Trains baseline statistical and ML models, investigates residuals and performs benchmarking\n",
        "* Finds leading indicators\n",
        "\n",
        "\n",
        "<p style=\"text-align: center;\"><b>To ensure that the DataFrame represents a time-series, right now we require the DataFrame you are loading to include both a `id` and `date` column.</b>\n",
        "</p>\n",
        "\n",
        "### Reporting Bugs / Providing Feedbacks\n",
        "\n",
        "The product is still in alpha, so there may be bugs. We'd love to hear from you for bug reports and feedbacks :)\n",
        "\n",
        "Feel free to join our Community Slack channel at https://join.slack.com/t/praxiscommunity/shared_invite/zt-1ef4vfje9-VCdEThDKIrYd0Z5ErVGo9A, or alternatively send correspondences to engineering@praxispioneering.com.\n",
        "\n",
        "![overview](https://drive.google.com/uc?id=1Y7iXbh7x6ffYgu6M9rp1gwxjohH49TB5)\n"
      ]
    },
    {
      "cell_type": "markdown",
      "metadata": {
        "id": "30cd-kvaePzV"
      },
      "source": [
        "## Installing via Pip\n",
        "\n",
        "You may save the wheel for installation on your own platforms (hosted Jupyter notebooks, Vertex AI, localhost, etc.) \n",
        "\n",
        "Run the command below to install the package. This should take at most 3 to 5 minutes."
      ]
    },
    {
      "cell_type": "code",
      "execution_count": null,
      "metadata": {
        "colab": {
          "base_uri": "https://localhost:8080/",
          "height": 1000
        },
        "id": "sxnGXIQWzsVD",
        "outputId": "960caa4e-a6fa-4533-eecd-4070dcc3ecfc"
      },
      "outputs": [],
      "source": [
        "!pip install https://storage.googleapis.com/praxis-public/wheels/praxis_interface-0.0.9-py2.py3-none-any.whl"
      ]
    },
    {
      "cell_type": "markdown",
      "metadata": {
        "id": "6zH-6kIirxMg"
      },
      "source": [
        "* After seeing:\n",
        "```\n",
        "WARNING: The following packages were previously imported in this runtime:\n",
        "  [pkg1, pkg2, ..]\n",
        "```\n",
        "you may wanna restart the runtime, otherwise importing Praxis may not work.\n",
        "* Pip may report an installation warning like:\n",
        "```\n",
        "ERROR: pip's dependency resolver does not currently take into account all the packages that are installed.\n",
        "```\n",
        "this won't have any affect on the success of installation. You may proceed as usual."
      ]
    },
    {
      "cell_type": "markdown",
      "metadata": {
        "id": "m7rC08OmfU6P"
      },
      "source": [
        "## Importing the Interface"
      ]
    },
    {
      "cell_type": "code",
      "execution_count": null,
      "metadata": {
        "colab": {
          "base_uri": "https://localhost:8080/",
          "height": 74
        },
        "id": "ici8TbF_zsVE",
        "outputId": "1505dff2-d335-4528-d11c-c0c96435d0e2"
      },
      "outputs": [
        {
          "name": "stderr",
          "output_type": "stream",
          "text": [
            "/usr/local/lib/python3.7/dist-packages/torchvision/io/image.py:13: UserWarning: Failed to load image Python extension: libtorch_cuda_cu.so: cannot open shared object file: No such file or directory\n",
            "  warn(f\"Failed to load image Python extension: {e}\")\n"
          ]
        }
      ],
      "source": [
        "from praxis_interface import Praxis\n",
        "import pandas as pd"
      ]
    },
    {
      "cell_type": "markdown",
      "metadata": {
        "id": "KKH5OwUKr2vI"
      },
      "source": [
        "Occasional errors may appear that relates to YAML, torchvision or Darts. You may ignore them. \n"
      ]
    },
    {
      "cell_type": "markdown",
      "metadata": {
        "id": "lWLMyN__gOMa"
      },
      "source": [
        "## Loading Data\n",
        "\n",
        "The `Praxis` class accepts a pandas DataFrame as an input to be able to visualize it. **To ensure that the DataFrame represents a time-series, right now we *require* it to include both a `id` and `date` column.** All other columns will be treated as either a target series, or covariates."
      ]
    },
    {
      "cell_type": "code",
      "execution_count": null,
      "metadata": {
        "id": "jdP5LU2EzsVE"
      },
      "outputs": [],
      "source": [
        "df = pd.read_parquet('https://storage.googleapis.com/praxis-public/assets/covid-19-us-demo.parquet')"
      ]
    },
    {
      "cell_type": "markdown",
      "metadata": {
        "id": "__DukEkQg_qb"
      },
      "source": [
        "## Instantiating a Praxis Interface\n",
        "After a DataFrame is loaded, you may launch a Praxis instance to help with your exploratory data analysis (EDA) and investigatory workflow. "
      ]
    },
    {
      "cell_type": "code",
      "execution_count": null,
      "metadata": {
        "id": "1-84LNVszsVF"
      },
      "outputs": [],
      "source": [
        "praxis = Praxis(df)"
      ]
    },
    {
      "cell_type": "markdown",
      "metadata": {
        "id": "hqhy0oYdr_Z3"
      },
      "source": [
        "The overhead is minimized by DuckDB, a lightweight Online analytical processing (OLAP) database that is instantiated in-memory. You can instantiate an arbitrary number of Praxis interfaces on an arbitrary number of DataFrames."
      ]
    },
    {
      "cell_type": "markdown",
      "metadata": {
        "id": "-we3gqUdlJpL"
      },
      "source": [
        "There are two main ways you could start a Praxis interface, either inline or in an external window. "
      ]
    },
    {
      "cell_type": "code",
      "execution_count": null,
      "metadata": {
        "colab": {
          "base_uri": "https://localhost:8080/",
          "height": 53
        },
        "id": "jfSSdHRuzsVF",
        "outputId": "b0bdaddc-f81b-46d9-c911-9f764e5e6ea6"
      },
      "outputs": [
        {
          "name": "stdout",
          "output_type": "stream",
          "text": [
            "Dash app running on:\n"
          ]
        },
        {
          "data": {
            "application/javascript": "(async (port, path, text, element) => {\n    if (!google.colab.kernel.accessAllowed) {\n      return;\n    }\n    element.appendChild(document.createTextNode(''));\n    const url = await google.colab.kernel.proxyPort(port);\n    const anchor = document.createElement('a');\n    anchor.href = new URL(path, url).toString();\n    anchor.target = '_blank';\n    anchor.setAttribute('data-href', url + path);\n    anchor.textContent = text;\n    element.appendChild(anchor);\n  })(60329, \"/\", \"http://127.0.0.1:60329/\", window.element)",
            "text/plain": [
              "<IPython.core.display.Javascript object>"
            ]
          },
          "metadata": {},
          "output_type": "display_data"
        }
      ],
      "source": [
        "praxis.run(mode=\"external\") # Running externally"
      ]
    },
    {
      "cell_type": "code",
      "execution_count": null,
      "metadata": {
        "id": "P_1SK4plmSc_"
      },
      "outputs": [],
      "source": [
        "praxis.run() # Running inline"
      ]
    },
    {
      "cell_type": "markdown",
      "metadata": {
        "id": "oFPE_wcisCze"
      },
      "source": [
        "If you are in a hosted environment, the proxy set-up may also be buggy and results in the interface not showing up. Your browser may also be configured to not display the interface due to Enhanced Tracking Protection."
      ]
    },
    {
      "cell_type": "markdown",
      "metadata": {
        "id": "MnKDOU4uoOQP"
      },
      "source": [
        "### Views\n",
        "\n",
        "Within a single invocation of `.run`, Praxis records different configurations of visualizations that you've tried, the baseline models you've trained on it, and their performances. These are represented as \"views,\" uniquely characterized by the following components:\n",
        "\n",
        "* ID of target series, or the regex to filter multi-series models\n",
        "* Name of target series\n",
        "* All past / future covariates\n",
        "* Cutoff time-stamp"
      ]
    },
    {
      "cell_type": "markdown",
      "metadata": {
        "id": "sssx5ScOrN3n"
      },
      "source": [
        "## Working with the Interface\n",
        "\n",
        "Praxis is designed to be flexible and performant to investigate your time-series data, join and identify most-important covariates, and esaily train and benchmark baseline models. Here are some examples of how you could work with the tool:\n",
        "\n"
      ]
    },
    {
      "cell_type": "markdown",
      "metadata": {
        "id": "MdtuaDWnt061"
      },
      "source": [
        "### Selecting Time-series and Columns"
      ]
    },
    {
      "cell_type": "code",
      "execution_count": null,
      "metadata": {
        "colab": {
          "base_uri": "https://localhost:8080/",
          "height": 422
        },
        "id": "URDwfWmitKpR",
        "outputId": "9a361307-524d-44c2-8463-993b766cf3fb"
      },
      "outputs": [
        {
          "data": {
            "text/html": [
              "\n",
              "        <iframe\n",
              "            width=\"800\"\n",
              "            height=\"400\"\n",
              "            src=\"https://www.loom.com/embed/fc2616d1c28a4fcc9e552064276673ca\"\n",
              "            frameborder=\"0\"\n",
              "            allowfullscreen\n",
              "            \n",
              "        ></iframe>\n",
              "        "
            ],
            "text/plain": [
              "<IPython.lib.display.IFrame at 0x7f063cf03190>"
            ]
          },
          "execution_count": 6,
          "metadata": {},
          "output_type": "execute_result"
        }
      ],
      "source": [
        "from IPython.display import IFrame\n",
        "\n",
        "IFrame(src=\"https://www.loom.com/embed/fc2616d1c28a4fcc9e552064276673ca\",width=800, height=400)"
      ]
    },
    {
      "cell_type": "markdown",
      "metadata": {
        "id": "Iewji9xcvH_X"
      },
      "source": [
        "### Add Covariates and Change Cutoff"
      ]
    },
    {
      "cell_type": "code",
      "execution_count": null,
      "metadata": {
        "colab": {
          "base_uri": "https://localhost:8080/",
          "height": 422
        },
        "id": "shDqLoVqt59u",
        "outputId": "f9099014-955c-410e-8fbb-be030fff300d"
      },
      "outputs": [
        {
          "data": {
            "text/html": [
              "\n",
              "        <iframe\n",
              "            width=\"800\"\n",
              "            height=\"400\"\n",
              "            src=\"https://www.loom.com/embed/12af08aaf7eb4feebb85b318a16b35a3\"\n",
              "            frameborder=\"0\"\n",
              "            allowfullscreen\n",
              "            \n",
              "        ></iframe>\n",
              "        "
            ],
            "text/plain": [
              "<IPython.lib.display.IFrame at 0x7f063b714d50>"
            ]
          },
          "execution_count": 7,
          "metadata": {},
          "output_type": "execute_result"
        }
      ],
      "source": [
        "IFrame(src=\"https://www.loom.com/embed/12af08aaf7eb4feebb85b318a16b35a3\",width=800, height=400)"
      ]
    },
    {
      "cell_type": "markdown",
      "metadata": {
        "id": "0tNp4nSB3y6p"
      },
      "source": [
        "### Find Leading Indicators"
      ]
    },
    {
      "cell_type": "code",
      "execution_count": null,
      "metadata": {
        "colab": {
          "base_uri": "https://localhost:8080/",
          "height": 422
        },
        "id": "u0qd5ad53yUR",
        "outputId": "87087063-bdfa-4de9-f7be-45cac31c31d6"
      },
      "outputs": [
        {
          "data": {
            "text/html": [
              "\n",
              "        <iframe\n",
              "            width=\"800\"\n",
              "            height=\"400\"\n",
              "            src=\"https://www.loom.com/embed/2b7257d2c59b4fe3b32c52b4940bacc0\"\n",
              "            frameborder=\"0\"\n",
              "            allowfullscreen\n",
              "            \n",
              "        ></iframe>\n",
              "        "
            ],
            "text/plain": [
              "<IPython.lib.display.IFrame at 0x7f063b70ee10>"
            ]
          },
          "execution_count": 9,
          "metadata": {},
          "output_type": "execute_result"
        }
      ],
      "source": [
        "IFrame(src=\"https://www.loom.com/embed/2b7257d2c59b4fe3b32c52b4940bacc0\",width=800, height=400)"
      ]
    },
    {
      "cell_type": "markdown",
      "metadata": {
        "id": "r2wQfxLlrwkf"
      },
      "source": [
        "### Train, Investigate and Compare Single-series Models (Statistical & ML)"
      ]
    },
    {
      "cell_type": "code",
      "execution_count": null,
      "metadata": {
        "colab": {
          "base_uri": "https://localhost:8080/",
          "height": 422
        },
        "id": "iMnRIXonv0Gy",
        "outputId": "9001f9b6-c812-40ba-916d-a1ef6db9c37b"
      },
      "outputs": [
        {
          "data": {
            "text/html": [
              "\n",
              "        <iframe\n",
              "            width=\"800\"\n",
              "            height=\"400\"\n",
              "            src=\"https://www.loom.com/embed/9da6846324dc4c719ae14e1bd7cc90ea\"\n",
              "            frameborder=\"0\"\n",
              "            allowfullscreen\n",
              "            \n",
              "        ></iframe>\n",
              "        "
            ],
            "text/plain": [
              "<IPython.lib.display.IFrame at 0x7f063b714190>"
            ]
          },
          "execution_count": 10,
          "metadata": {},
          "output_type": "execute_result"
        }
      ],
      "source": [
        "IFrame(src=\"https://www.loom.com/embed/9da6846324dc4c719ae14e1bd7cc90ea\",width=800, height=400)"
      ]
    },
    {
      "cell_type": "markdown",
      "metadata": {
        "id": "1Jhw7PMJzlcO"
      },
      "source": [
        "### Train, Investigate and Compare Multi-series Models (Statistical & ML)\n"
      ]
    },
    {
      "cell_type": "code",
      "execution_count": null,
      "metadata": {
        "colab": {
          "base_uri": "https://localhost:8080/",
          "height": 422
        },
        "id": "QbfQUeLLzmZ-",
        "outputId": "9a93900d-ecb8-4612-8895-7964cbeca296"
      },
      "outputs": [
        {
          "data": {
            "text/html": [
              "\n",
              "        <iframe\n",
              "            width=\"800\"\n",
              "            height=\"400\"\n",
              "            src=\"https://www.loom.com/embed/985fc3e2f2fa4e27a8645bd8e213c3e8\"\n",
              "            frameborder=\"0\"\n",
              "            allowfullscreen\n",
              "            \n",
              "        ></iframe>\n",
              "        "
            ],
            "text/plain": [
              "<IPython.lib.display.IFrame at 0x7f063b712b90>"
            ]
          },
          "execution_count": 11,
          "metadata": {},
          "output_type": "execute_result"
        }
      ],
      "source": [
        "IFrame(src=\"https://www.loom.com/embed/985fc3e2f2fa4e27a8645bd8e213c3e8\",width=800, height=400)"
      ]
    },
    {
      "cell_type": "markdown",
      "metadata": {
        "id": "Hbs8b0mwmhQv"
      },
      "source": [
        "## Getting Results from the Interface\n",
        "\n",
        "Praxis complements your existing workflow by visualizing inputs from a DataFrame, then returning preliminary results from your investigative interactions with the interface. \n",
        "\n",
        "Here are different types of information you could get from the interface: "
      ]
    },
    {
      "cell_type": "markdown",
      "metadata": {
        "id": "oKoGbyA6o7DX"
      },
      "source": [
        "### Models\n",
        "Remark that the `['model']` field contains a Python Darts object that you could use elsewhere."
      ]
    },
    {
      "cell_type": "code",
      "execution_count": null,
      "metadata": {
        "colab": {
          "base_uri": "https://localhost:8080/"
        },
        "id": "v4cfbZgNzsVF",
        "outputId": "06e9733e-4fa7-4dfd-ca0e-325a0631300d"
      },
      "outputs": [
        {
          "data": {
            "text/plain": [
              "{'Prophet (singleseries)': {'mode': 'forecast',\n",
              "  'start_time': Timestamp('2021-01-01 00:00:00'),\n",
              "  'target_column': 'new_deceased',\n",
              "  'model': <darts.models.forecasting.prophet_model.Prophet at 0x7f063a366310>,\n",
              "  'model_selection': 'Prophet (singleseries)',\n",
              "  'components': ['population_age_70_79', 'new_persons_vaccinated'],\n",
              "  'forecast_length': 20,\n",
              "  'forecast_samples': 1,\n",
              "  'disable_future_cov': False}}"
            ]
          },
          "execution_count": 13,
          "metadata": {},
          "output_type": "execute_result"
        }
      ],
      "source": [
        "praxis.get_model() # Getting models trained on last view accessed"
      ]
    },
    {
      "cell_type": "code",
      "execution_count": null,
      "metadata": {
        "colab": {
          "base_uri": "https://localhost:8080/"
        },
        "id": "KJUwlclxoxJD",
        "outputId": "5ade32dc-a75d-4a3e-b2e0-d88397036afe"
      },
      "outputs": [
        {
          "data": {
            "text/plain": [
              "{'US_IL@new_deceased@new_persons_fully_vaccinated/current_intensive_care_patients/search_trends_diarrhea@@@2021-01-01T00:00:00.000000000': {'Prophet (singleseries)': {'mode': 'forecast',\n",
              "   'start_time': Timestamp('2021-01-01 00:00:00'),\n",
              "   'target_column': 'new_deceased',\n",
              "   'model': <darts.models.forecasting.prophet_model.Prophet at 0x7f064261bb90>,\n",
              "   'model_selection': 'Prophet (singleseries)',\n",
              "   'components': ['new_persons_fully_vaccinated',\n",
              "    'current_intensive_care_patients',\n",
              "    'search_trends_diarrhea'],\n",
              "   'forecast_length': 20,\n",
              "   'forecast_samples': 1,\n",
              "   'disable_future_cov': False}},\n",
              " 'US_IL@new_deceased@new_persons_fully_vaccinated/current_intensive_care_patients/search_trends_diarrhea@@@2021-03-01T00:00:00.000000000': {'Prophet (singleseries)': {'mode': 'forecast',\n",
              "   'start_time': Timestamp('2021-03-01 00:00:00'),\n",
              "   'target_column': 'new_deceased',\n",
              "   'model': <darts.models.forecasting.prophet_model.Prophet at 0x7f063e93df90>,\n",
              "   'model_selection': 'Prophet (singleseries)',\n",
              "   'components': ['new_persons_fully_vaccinated',\n",
              "    'current_intensive_care_patients',\n",
              "    'search_trends_diarrhea'],\n",
              "   'forecast_length': 20,\n",
              "   'forecast_samples': 1,\n",
              "   'disable_future_cov': False}},\n",
              " 'US_CA@new_deceased@new_persons_fully_vaccinated/current_intensive_care_patients/search_trends_diarrhea@@@2021-03-01T00:00:00.000000000': {'Prophet (singleseries)': {'mode': 'forecast',\n",
              "   'start_time': Timestamp('2021-03-01 00:00:00'),\n",
              "   'target_column': 'new_deceased',\n",
              "   'model': <darts.models.forecasting.prophet_model.Prophet at 0x7f0641938690>,\n",
              "   'model_selection': 'Prophet (singleseries)',\n",
              "   'components': ['new_persons_fully_vaccinated',\n",
              "    'current_intensive_care_patients',\n",
              "    'search_trends_diarrhea'],\n",
              "   'forecast_length': 20,\n",
              "   'forecast_samples': 1,\n",
              "   'disable_future_cov': False},\n",
              "  'CatBoost (singleseries)': {'mode': 'forecast',\n",
              "   'start_time': Timestamp('2021-03-01 00:00:00'),\n",
              "   'target_column': 'new_deceased',\n",
              "   'model': <darts.models.forecasting.catboost_model.CatBoostModel at 0x7f063e0d8ed0>,\n",
              "   'model_selection': 'CatBoost (singleseries)',\n",
              "   'components': ['new_persons_fully_vaccinated',\n",
              "    'current_intensive_care_patients',\n",
              "    'search_trends_diarrhea'],\n",
              "   'forecast_length': 20,\n",
              "   'forecast_samples': 1,\n",
              "   'disable_future_cov': False}},\n",
              " 'US_CA@new_persons_vaccinated@new_persons_fully_vaccinated/current_intensive_care_patients/search_trends_diarrhea@@@2021-03-01T00:00:00.000000000': {'CatBoost (singleseries)': {'mode': 'forecast',\n",
              "   'start_time': Timestamp('2021-03-01 00:00:00'),\n",
              "   'target_column': 'new_persons_vaccinated',\n",
              "   'model': <darts.models.forecasting.catboost_model.CatBoostModel at 0x7f063d2bb950>,\n",
              "   'model_selection': 'CatBoost (singleseries)',\n",
              "   'components': ['new_persons_fully_vaccinated',\n",
              "    'current_intensive_care_patients',\n",
              "    'search_trends_diarrhea'],\n",
              "   'forecast_length': 20,\n",
              "   'forecast_samples': 1,\n",
              "   'disable_future_cov': False},\n",
              "  'Kalman filter + N4SID (singleseries)': {'mode': 'forecast',\n",
              "   'start_time': Timestamp('2021-03-01 00:00:00'),\n",
              "   'target_column': 'new_persons_vaccinated',\n",
              "   'model': <darts.models.forecasting.kalman_forecaster.KalmanForecaster at 0x7f063cf6b490>,\n",
              "   'model_selection': 'Kalman filter + N4SID (singleseries)',\n",
              "   'components': ['new_persons_fully_vaccinated',\n",
              "    'current_intensive_care_patients',\n",
              "    'search_trends_diarrhea'],\n",
              "   'forecast_length': 20,\n",
              "   'forecast_samples': 1,\n",
              "   'disable_future_cov': False},\n",
              "  'LightGBM (singleseries)': {'mode': 'forecast',\n",
              "   'start_time': Timestamp('2021-03-01 00:00:00'),\n",
              "   'target_column': 'new_persons_vaccinated',\n",
              "   'model': <darts.models.forecasting.gradient_boosted_model.LightGBMModel at 0x7f063cb78390>,\n",
              "   'model_selection': 'LightGBM (singleseries)',\n",
              "   'components': ['new_persons_fully_vaccinated',\n",
              "    'current_intensive_care_patients',\n",
              "    'search_trends_diarrhea'],\n",
              "   'forecast_length': 20,\n",
              "   'forecast_samples': 1,\n",
              "   'disable_future_cov': False}},\n",
              " 'US_CA@new_deceased@population_age_70_79@new_persons_vaccinated@@2021-01-01T00:00:00.000000000': {'Prophet (singleseries)': {'mode': 'forecast',\n",
              "   'start_time': Timestamp('2021-01-01 00:00:00'),\n",
              "   'target_column': 'new_deceased',\n",
              "   'model': <darts.models.forecasting.prophet_model.Prophet at 0x7f063a366310>,\n",
              "   'model_selection': 'Prophet (singleseries)',\n",
              "   'components': ['population_age_70_79', 'new_persons_vaccinated'],\n",
              "   'forecast_length': 20,\n",
              "   'forecast_samples': 1,\n",
              "   'disable_future_cov': False}}}"
            ]
          },
          "execution_count": 14,
          "metadata": {},
          "output_type": "execute_result"
        }
      ],
      "source": [
        "praxis.get_model(return_all=True) # Getting models trained on all views"
      ]
    },
    {
      "cell_type": "markdown",
      "metadata": {
        "id": "zQuBnMZHpKi9"
      },
      "source": [
        "### Forecasts\n",
        "\n",
        "Forecasts are broken down by models, percentiles (for probabilistic inference), and whether it's a prediction or a residual (actual - prediction). They are immediately available as pandas DataFrame, which you may incorporate in your training pipeline, or even fed back into the interface for more analysis"
      ]
    },
    {
      "cell_type": "code",
      "execution_count": null,
      "metadata": {
        "colab": {
          "base_uri": "https://localhost:8080/",
          "height": 677
        },
        "id": "_rGpsznqzsVF",
        "outputId": "c492bfa2-618e-4d1c-cc5b-9fe79785f7f8",
        "scrolled": false
      },
      "outputs": [
        {
          "data": {
            "text/html": [
              "\n",
              "  <div id=\"df-7367148a-e6d1-43b1-b341-3d1d6a445861\">\n",
              "    <div class=\"colab-df-container\">\n",
              "      <div>\n",
              "<style scoped>\n",
              "    .dataframe tbody tr th:only-of-type {\n",
              "        vertical-align: middle;\n",
              "    }\n",
              "\n",
              "    .dataframe tbody tr th {\n",
              "        vertical-align: top;\n",
              "    }\n",
              "\n",
              "    .dataframe thead th {\n",
              "        text-align: right;\n",
              "    }\n",
              "</style>\n",
              "<table border=\"1\" class=\"dataframe\">\n",
              "  <thead>\n",
              "    <tr style=\"text-align: right;\">\n",
              "      <th></th>\n",
              "      <th>prediction</th>\n",
              "    </tr>\n",
              "  </thead>\n",
              "  <tbody>\n",
              "    <tr>\n",
              "      <th>2021-01-01</th>\n",
              "      <td>198.128034</td>\n",
              "    </tr>\n",
              "    <tr>\n",
              "      <th>2021-01-02</th>\n",
              "      <td>196.214713</td>\n",
              "    </tr>\n",
              "    <tr>\n",
              "      <th>2021-01-03</th>\n",
              "      <td>163.387324</td>\n",
              "    </tr>\n",
              "    <tr>\n",
              "      <th>2021-01-04</th>\n",
              "      <td>154.366083</td>\n",
              "    </tr>\n",
              "    <tr>\n",
              "      <th>2021-01-05</th>\n",
              "      <td>194.928211</td>\n",
              "    </tr>\n",
              "    <tr>\n",
              "      <th>2021-01-06</th>\n",
              "      <td>219.353732</td>\n",
              "    </tr>\n",
              "    <tr>\n",
              "      <th>2021-01-07</th>\n",
              "      <td>221.258600</td>\n",
              "    </tr>\n",
              "    <tr>\n",
              "      <th>2021-01-08</th>\n",
              "      <td>208.887665</td>\n",
              "    </tr>\n",
              "    <tr>\n",
              "      <th>2021-01-09</th>\n",
              "      <td>206.974343</td>\n",
              "    </tr>\n",
              "    <tr>\n",
              "      <th>2021-01-10</th>\n",
              "      <td>174.146955</td>\n",
              "    </tr>\n",
              "    <tr>\n",
              "      <th>2021-01-11</th>\n",
              "      <td>165.125714</td>\n",
              "    </tr>\n",
              "    <tr>\n",
              "      <th>2021-01-12</th>\n",
              "      <td>205.687842</td>\n",
              "    </tr>\n",
              "    <tr>\n",
              "      <th>2021-01-13</th>\n",
              "      <td>230.113362</td>\n",
              "    </tr>\n",
              "    <tr>\n",
              "      <th>2021-01-14</th>\n",
              "      <td>232.018231</td>\n",
              "    </tr>\n",
              "    <tr>\n",
              "      <th>2021-01-15</th>\n",
              "      <td>219.647296</td>\n",
              "    </tr>\n",
              "    <tr>\n",
              "      <th>2021-01-16</th>\n",
              "      <td>217.733974</td>\n",
              "    </tr>\n",
              "    <tr>\n",
              "      <th>2021-01-17</th>\n",
              "      <td>184.906586</td>\n",
              "    </tr>\n",
              "    <tr>\n",
              "      <th>2021-01-18</th>\n",
              "      <td>175.885344</td>\n",
              "    </tr>\n",
              "    <tr>\n",
              "      <th>2021-01-19</th>\n",
              "      <td>216.447472</td>\n",
              "    </tr>\n",
              "    <tr>\n",
              "      <th>2021-01-20</th>\n",
              "      <td>240.872993</td>\n",
              "    </tr>\n",
              "  </tbody>\n",
              "</table>\n",
              "</div>\n",
              "      <button class=\"colab-df-convert\" onclick=\"convertToInteractive('df-7367148a-e6d1-43b1-b341-3d1d6a445861')\"\n",
              "              title=\"Convert this dataframe to an interactive table.\"\n",
              "              style=\"display:none;\">\n",
              "        \n",
              "  <svg xmlns=\"http://www.w3.org/2000/svg\" height=\"24px\"viewBox=\"0 0 24 24\"\n",
              "       width=\"24px\">\n",
              "    <path d=\"M0 0h24v24H0V0z\" fill=\"none\"/>\n",
              "    <path d=\"M18.56 5.44l.94 2.06.94-2.06 2.06-.94-2.06-.94-.94-2.06-.94 2.06-2.06.94zm-11 1L8.5 8.5l.94-2.06 2.06-.94-2.06-.94L8.5 2.5l-.94 2.06-2.06.94zm10 10l.94 2.06.94-2.06 2.06-.94-2.06-.94-.94-2.06-.94 2.06-2.06.94z\"/><path d=\"M17.41 7.96l-1.37-1.37c-.4-.4-.92-.59-1.43-.59-.52 0-1.04.2-1.43.59L10.3 9.45l-7.72 7.72c-.78.78-.78 2.05 0 2.83L4 21.41c.39.39.9.59 1.41.59.51 0 1.02-.2 1.41-.59l7.78-7.78 2.81-2.81c.8-.78.8-2.07 0-2.86zM5.41 20L4 18.59l7.72-7.72 1.47 1.35L5.41 20z\"/>\n",
              "  </svg>\n",
              "      </button>\n",
              "      \n",
              "  <style>\n",
              "    .colab-df-container {\n",
              "      display:flex;\n",
              "      flex-wrap:wrap;\n",
              "      gap: 12px;\n",
              "    }\n",
              "\n",
              "    .colab-df-convert {\n",
              "      background-color: #E8F0FE;\n",
              "      border: none;\n",
              "      border-radius: 50%;\n",
              "      cursor: pointer;\n",
              "      display: none;\n",
              "      fill: #1967D2;\n",
              "      height: 32px;\n",
              "      padding: 0 0 0 0;\n",
              "      width: 32px;\n",
              "    }\n",
              "\n",
              "    .colab-df-convert:hover {\n",
              "      background-color: #E2EBFA;\n",
              "      box-shadow: 0px 1px 2px rgba(60, 64, 67, 0.3), 0px 1px 3px 1px rgba(60, 64, 67, 0.15);\n",
              "      fill: #174EA6;\n",
              "    }\n",
              "\n",
              "    [theme=dark] .colab-df-convert {\n",
              "      background-color: #3B4455;\n",
              "      fill: #D2E3FC;\n",
              "    }\n",
              "\n",
              "    [theme=dark] .colab-df-convert:hover {\n",
              "      background-color: #434B5C;\n",
              "      box-shadow: 0px 1px 3px 1px rgba(0, 0, 0, 0.15);\n",
              "      filter: drop-shadow(0px 1px 2px rgba(0, 0, 0, 0.3));\n",
              "      fill: #FFFFFF;\n",
              "    }\n",
              "  </style>\n",
              "\n",
              "      <script>\n",
              "        const buttonEl =\n",
              "          document.querySelector('#df-7367148a-e6d1-43b1-b341-3d1d6a445861 button.colab-df-convert');\n",
              "        buttonEl.style.display =\n",
              "          google.colab.kernel.accessAllowed ? 'block' : 'none';\n",
              "\n",
              "        async function convertToInteractive(key) {\n",
              "          const element = document.querySelector('#df-7367148a-e6d1-43b1-b341-3d1d6a445861');\n",
              "          const dataTable =\n",
              "            await google.colab.kernel.invokeFunction('convertToInteractive',\n",
              "                                                     [key], {});\n",
              "          if (!dataTable) return;\n",
              "\n",
              "          const docLinkHtml = 'Like what you see? Visit the ' +\n",
              "            '<a target=\"_blank\" href=https://colab.research.google.com/notebooks/data_table.ipynb>data table notebook</a>'\n",
              "            + ' to learn more about interactive tables.';\n",
              "          element.innerHTML = '';\n",
              "          dataTable['output_type'] = 'display_data';\n",
              "          await google.colab.output.renderOutput(dataTable, element);\n",
              "          const docLink = document.createElement('div');\n",
              "          docLink.innerHTML = docLinkHtml;\n",
              "          element.appendChild(docLink);\n",
              "        }\n",
              "      </script>\n",
              "    </div>\n",
              "  </div>\n",
              "  "
            ],
            "text/plain": [
              "            prediction\n",
              "2021-01-01  198.128034\n",
              "2021-01-02  196.214713\n",
              "2021-01-03  163.387324\n",
              "2021-01-04  154.366083\n",
              "2021-01-05  194.928211\n",
              "2021-01-06  219.353732\n",
              "2021-01-07  221.258600\n",
              "2021-01-08  208.887665\n",
              "2021-01-09  206.974343\n",
              "2021-01-10  174.146955\n",
              "2021-01-11  165.125714\n",
              "2021-01-12  205.687842\n",
              "2021-01-13  230.113362\n",
              "2021-01-14  232.018231\n",
              "2021-01-15  219.647296\n",
              "2021-01-16  217.733974\n",
              "2021-01-17  184.906586\n",
              "2021-01-18  175.885344\n",
              "2021-01-19  216.447472\n",
              "2021-01-20  240.872993"
            ]
          },
          "execution_count": 17,
          "metadata": {},
          "output_type": "execute_result"
        }
      ],
      "source": [
        "forecast = praxis.get_forecast()\n",
        "forecast['prediction']['Prophet (singleseries)']['0.05']"
      ]
    },
    {
      "cell_type": "markdown",
      "metadata": {
        "id": "YLr2-4Gbp_Sp"
      },
      "source": [
        "### Metrics\n",
        "\n",
        "Currently, we support calculating symmetric mean absolute percentage error (SMAPE) and root mean squared error (RMSE)."
      ]
    },
    {
      "cell_type": "code",
      "execution_count": null,
      "metadata": {
        "colab": {
          "base_uri": "https://localhost:8080/"
        },
        "id": "d34S0C25piW0",
        "outputId": "1e32e0cf-3c30-4a18-a547-6e72c1c5f69d"
      },
      "outputs": [
        {
          "data": {
            "text/plain": [
              "{'Prophet (singleseries)': {'smape': 69.81, 'rmse': 250.29}}"
            ]
          },
          "execution_count": 19,
          "metadata": {},
          "output_type": "execute_result"
        }
      ],
      "source": [
        "praxis.get_metrics()"
      ]
    },
    {
      "cell_type": "markdown",
      "metadata": {
        "id": "veTW7k9bqPQt"
      },
      "source": [
        "### Last-run View\n",
        "\n",
        "You could also export the last view you were working on for records:"
      ]
    },
    {
      "cell_type": "code",
      "execution_count": null,
      "metadata": {
        "colab": {
          "base_uri": "https://localhost:8080/"
        },
        "id": "M5Wm8Q0xqBNq",
        "outputId": "49bab720-3bb0-452c-f603-0b33c0537ef3"
      },
      "outputs": [
        {
          "data": {
            "text/plain": [
              "{'id': 'US_CA',\n",
              " 'target': 'new_deceased',\n",
              " 'past_covs': ['population_age_70_79'],\n",
              " 'future_covs': ['new_persons_vaccinated'],\n",
              " 'discrete': [],\n",
              " 'cutoff': Timestamp('2021-01-01 00:00:00'),\n",
              " 'filter_regex': '.*'}"
            ]
          },
          "execution_count": 20,
          "metadata": {},
          "output_type": "execute_result"
        }
      ],
      "source": [
        "praxis.get_last_view()"
      ]
    },
    {
      "cell_type": "markdown",
      "metadata": {
        "id": "_hHfJ9T3qX1K"
      },
      "source": [
        "### Train/test Split\n",
        "\n",
        "To help with accelerating your prototyping process, you could easily export the train/test split in interface into respective DataFrames, so that it's easier to run on your more complex training pipeline."
      ]
    },
    {
      "cell_type": "code",
      "execution_count": null,
      "metadata": {
        "colab": {
          "base_uri": "https://localhost:8080/",
          "height": 424
        },
        "id": "_E0KsXoYqVxq",
        "outputId": "a5b36ed9-3186-41f4-b9d7-825dba0e4856"
      },
      "outputs": [
        {
          "data": {
            "text/html": [
              "\n",
              "  <div id=\"df-ed8eabb1-ba52-424e-9f41-f0133d56e0d0\">\n",
              "    <div class=\"colab-df-container\">\n",
              "      <div>\n",
              "<style scoped>\n",
              "    .dataframe tbody tr th:only-of-type {\n",
              "        vertical-align: middle;\n",
              "    }\n",
              "\n",
              "    .dataframe tbody tr th {\n",
              "        vertical-align: top;\n",
              "    }\n",
              "\n",
              "    .dataframe thead th {\n",
              "        text-align: right;\n",
              "    }\n",
              "</style>\n",
              "<table border=\"1\" class=\"dataframe\">\n",
              "  <thead>\n",
              "    <tr style=\"text-align: right;\">\n",
              "      <th></th>\n",
              "      <th>id</th>\n",
              "      <th>date</th>\n",
              "      <th>new_deceased</th>\n",
              "      <th>population_age_70_79</th>\n",
              "      <th>new_persons_vaccinated</th>\n",
              "    </tr>\n",
              "  </thead>\n",
              "  <tbody>\n",
              "    <tr>\n",
              "      <th>0</th>\n",
              "      <td>US_AK</td>\n",
              "      <td>2020-01-01</td>\n",
              "      <td>0.000000</td>\n",
              "      <td>35021.0</td>\n",
              "      <td>0.0</td>\n",
              "    </tr>\n",
              "    <tr>\n",
              "      <th>1</th>\n",
              "      <td>US_AK</td>\n",
              "      <td>2020-01-02</td>\n",
              "      <td>0.000000</td>\n",
              "      <td>35021.0</td>\n",
              "      <td>0.0</td>\n",
              "    </tr>\n",
              "    <tr>\n",
              "      <th>2</th>\n",
              "      <td>US_AK</td>\n",
              "      <td>2020-01-03</td>\n",
              "      <td>0.000000</td>\n",
              "      <td>35021.0</td>\n",
              "      <td>0.0</td>\n",
              "    </tr>\n",
              "    <tr>\n",
              "      <th>3</th>\n",
              "      <td>US_AK</td>\n",
              "      <td>2020-01-04</td>\n",
              "      <td>0.000000</td>\n",
              "      <td>35021.0</td>\n",
              "      <td>0.0</td>\n",
              "    </tr>\n",
              "    <tr>\n",
              "      <th>4</th>\n",
              "      <td>US_AK</td>\n",
              "      <td>2020-01-05</td>\n",
              "      <td>0.000000</td>\n",
              "      <td>35021.0</td>\n",
              "      <td>0.0</td>\n",
              "    </tr>\n",
              "    <tr>\n",
              "      <th>...</th>\n",
              "      <td>...</td>\n",
              "      <td>...</td>\n",
              "      <td>...</td>\n",
              "      <td>...</td>\n",
              "      <td>...</td>\n",
              "    </tr>\n",
              "    <tr>\n",
              "      <th>20547</th>\n",
              "      <td>US_WY</td>\n",
              "      <td>2020-12-28</td>\n",
              "      <td>21.353542</td>\n",
              "      <td>44614.0</td>\n",
              "      <td>0.0</td>\n",
              "    </tr>\n",
              "    <tr>\n",
              "      <th>20548</th>\n",
              "      <td>US_WY</td>\n",
              "      <td>2020-12-29</td>\n",
              "      <td>7.117847</td>\n",
              "      <td>44614.0</td>\n",
              "      <td>0.0</td>\n",
              "    </tr>\n",
              "    <tr>\n",
              "      <th>20549</th>\n",
              "      <td>US_WY</td>\n",
              "      <td>2020-12-30</td>\n",
              "      <td>2.372616</td>\n",
              "      <td>44614.0</td>\n",
              "      <td>0.0</td>\n",
              "    </tr>\n",
              "    <tr>\n",
              "      <th>20550</th>\n",
              "      <td>US_WY</td>\n",
              "      <td>2020-12-31</td>\n",
              "      <td>22.790872</td>\n",
              "      <td>44614.0</td>\n",
              "      <td>0.0</td>\n",
              "    </tr>\n",
              "    <tr>\n",
              "      <th>20551</th>\n",
              "      <td>US_WY</td>\n",
              "      <td>2021-01-01</td>\n",
              "      <td>7.596957</td>\n",
              "      <td>44614.0</td>\n",
              "      <td>0.0</td>\n",
              "    </tr>\n",
              "  </tbody>\n",
              "</table>\n",
              "<p>20552 rows × 5 columns</p>\n",
              "</div>\n",
              "      <button class=\"colab-df-convert\" onclick=\"convertToInteractive('df-ed8eabb1-ba52-424e-9f41-f0133d56e0d0')\"\n",
              "              title=\"Convert this dataframe to an interactive table.\"\n",
              "              style=\"display:none;\">\n",
              "        \n",
              "  <svg xmlns=\"http://www.w3.org/2000/svg\" height=\"24px\"viewBox=\"0 0 24 24\"\n",
              "       width=\"24px\">\n",
              "    <path d=\"M0 0h24v24H0V0z\" fill=\"none\"/>\n",
              "    <path d=\"M18.56 5.44l.94 2.06.94-2.06 2.06-.94-2.06-.94-.94-2.06-.94 2.06-2.06.94zm-11 1L8.5 8.5l.94-2.06 2.06-.94-2.06-.94L8.5 2.5l-.94 2.06-2.06.94zm10 10l.94 2.06.94-2.06 2.06-.94-2.06-.94-.94-2.06-.94 2.06-2.06.94z\"/><path d=\"M17.41 7.96l-1.37-1.37c-.4-.4-.92-.59-1.43-.59-.52 0-1.04.2-1.43.59L10.3 9.45l-7.72 7.72c-.78.78-.78 2.05 0 2.83L4 21.41c.39.39.9.59 1.41.59.51 0 1.02-.2 1.41-.59l7.78-7.78 2.81-2.81c.8-.78.8-2.07 0-2.86zM5.41 20L4 18.59l7.72-7.72 1.47 1.35L5.41 20z\"/>\n",
              "  </svg>\n",
              "      </button>\n",
              "      \n",
              "  <style>\n",
              "    .colab-df-container {\n",
              "      display:flex;\n",
              "      flex-wrap:wrap;\n",
              "      gap: 12px;\n",
              "    }\n",
              "\n",
              "    .colab-df-convert {\n",
              "      background-color: #E8F0FE;\n",
              "      border: none;\n",
              "      border-radius: 50%;\n",
              "      cursor: pointer;\n",
              "      display: none;\n",
              "      fill: #1967D2;\n",
              "      height: 32px;\n",
              "      padding: 0 0 0 0;\n",
              "      width: 32px;\n",
              "    }\n",
              "\n",
              "    .colab-df-convert:hover {\n",
              "      background-color: #E2EBFA;\n",
              "      box-shadow: 0px 1px 2px rgba(60, 64, 67, 0.3), 0px 1px 3px 1px rgba(60, 64, 67, 0.15);\n",
              "      fill: #174EA6;\n",
              "    }\n",
              "\n",
              "    [theme=dark] .colab-df-convert {\n",
              "      background-color: #3B4455;\n",
              "      fill: #D2E3FC;\n",
              "    }\n",
              "\n",
              "    [theme=dark] .colab-df-convert:hover {\n",
              "      background-color: #434B5C;\n",
              "      box-shadow: 0px 1px 3px 1px rgba(0, 0, 0, 0.15);\n",
              "      filter: drop-shadow(0px 1px 2px rgba(0, 0, 0, 0.3));\n",
              "      fill: #FFFFFF;\n",
              "    }\n",
              "  </style>\n",
              "\n",
              "      <script>\n",
              "        const buttonEl =\n",
              "          document.querySelector('#df-ed8eabb1-ba52-424e-9f41-f0133d56e0d0 button.colab-df-convert');\n",
              "        buttonEl.style.display =\n",
              "          google.colab.kernel.accessAllowed ? 'block' : 'none';\n",
              "\n",
              "        async function convertToInteractive(key) {\n",
              "          const element = document.querySelector('#df-ed8eabb1-ba52-424e-9f41-f0133d56e0d0');\n",
              "          const dataTable =\n",
              "            await google.colab.kernel.invokeFunction('convertToInteractive',\n",
              "                                                     [key], {});\n",
              "          if (!dataTable) return;\n",
              "\n",
              "          const docLinkHtml = 'Like what you see? Visit the ' +\n",
              "            '<a target=\"_blank\" href=https://colab.research.google.com/notebooks/data_table.ipynb>data table notebook</a>'\n",
              "            + ' to learn more about interactive tables.';\n",
              "          element.innerHTML = '';\n",
              "          dataTable['output_type'] = 'display_data';\n",
              "          await google.colab.output.renderOutput(dataTable, element);\n",
              "          const docLink = document.createElement('div');\n",
              "          docLink.innerHTML = docLinkHtml;\n",
              "          element.appendChild(docLink);\n",
              "        }\n",
              "      </script>\n",
              "    </div>\n",
              "  </div>\n",
              "  "
            ],
            "text/plain": [
              "          id       date  new_deceased  population_age_70_79  \\\n",
              "0      US_AK 2020-01-01      0.000000               35021.0   \n",
              "1      US_AK 2020-01-02      0.000000               35021.0   \n",
              "2      US_AK 2020-01-03      0.000000               35021.0   \n",
              "3      US_AK 2020-01-04      0.000000               35021.0   \n",
              "4      US_AK 2020-01-05      0.000000               35021.0   \n",
              "...      ...        ...           ...                   ...   \n",
              "20547  US_WY 2020-12-28     21.353542               44614.0   \n",
              "20548  US_WY 2020-12-29      7.117847               44614.0   \n",
              "20549  US_WY 2020-12-30      2.372616               44614.0   \n",
              "20550  US_WY 2020-12-31     22.790872               44614.0   \n",
              "20551  US_WY 2021-01-01      7.596957               44614.0   \n",
              "\n",
              "       new_persons_vaccinated  \n",
              "0                         0.0  \n",
              "1                         0.0  \n",
              "2                         0.0  \n",
              "3                         0.0  \n",
              "4                         0.0  \n",
              "...                       ...  \n",
              "20547                     0.0  \n",
              "20548                     0.0  \n",
              "20549                     0.0  \n",
              "20550                     0.0  \n",
              "20551                     0.0  \n",
              "\n",
              "[20552 rows x 5 columns]"
            ]
          },
          "execution_count": 21,
          "metadata": {},
          "output_type": "execute_result"
        }
      ],
      "source": [
        "train, test = praxis.to_dataframe()\n",
        "train"
      ]
    },
    {
      "cell_type": "code",
      "execution_count": null,
      "metadata": {
        "colab": {
          "base_uri": "https://localhost:8080/",
          "height": 424
        },
        "id": "0fKFDohHqsbf",
        "outputId": "253264bd-5c84-4bc8-9ca6-219162f31455"
      },
      "outputs": [
        {
          "data": {
            "text/html": [
              "\n",
              "  <div id=\"df-51c33d8b-d9a9-4e7a-bf9d-7f6b96e0cdad\">\n",
              "    <div class=\"colab-df-container\">\n",
              "      <div>\n",
              "<style scoped>\n",
              "    .dataframe tbody tr th:only-of-type {\n",
              "        vertical-align: middle;\n",
              "    }\n",
              "\n",
              "    .dataframe tbody tr th {\n",
              "        vertical-align: top;\n",
              "    }\n",
              "\n",
              "    .dataframe thead th {\n",
              "        text-align: right;\n",
              "    }\n",
              "</style>\n",
              "<table border=\"1\" class=\"dataframe\">\n",
              "  <thead>\n",
              "    <tr style=\"text-align: right;\">\n",
              "      <th></th>\n",
              "      <th>id</th>\n",
              "      <th>date</th>\n",
              "      <th>new_deceased</th>\n",
              "      <th>population_age_70_79</th>\n",
              "      <th>new_persons_vaccinated</th>\n",
              "    </tr>\n",
              "  </thead>\n",
              "  <tbody>\n",
              "    <tr>\n",
              "      <th>0</th>\n",
              "      <td>US_AK</td>\n",
              "      <td>2021-01-02</td>\n",
              "      <td>2.171726</td>\n",
              "      <td>35021.0</td>\n",
              "      <td>0.000000</td>\n",
              "    </tr>\n",
              "    <tr>\n",
              "      <th>1</th>\n",
              "      <td>US_AK</td>\n",
              "      <td>2021-01-03</td>\n",
              "      <td>1.390575</td>\n",
              "      <td>35021.0</td>\n",
              "      <td>0.000000</td>\n",
              "    </tr>\n",
              "    <tr>\n",
              "      <th>2</th>\n",
              "      <td>US_AK</td>\n",
              "      <td>2021-01-04</td>\n",
              "      <td>0.463525</td>\n",
              "      <td>35021.0</td>\n",
              "      <td>0.000000</td>\n",
              "    </tr>\n",
              "    <tr>\n",
              "      <th>3</th>\n",
              "      <td>US_AK</td>\n",
              "      <td>2021-01-05</td>\n",
              "      <td>2.154508</td>\n",
              "      <td>35021.0</td>\n",
              "      <td>0.000000</td>\n",
              "    </tr>\n",
              "    <tr>\n",
              "      <th>4</th>\n",
              "      <td>US_AK</td>\n",
              "      <td>2021-01-06</td>\n",
              "      <td>1.384836</td>\n",
              "      <td>35021.0</td>\n",
              "      <td>0.000000</td>\n",
              "    </tr>\n",
              "    <tr>\n",
              "      <th>...</th>\n",
              "      <td>...</td>\n",
              "      <td>...</td>\n",
              "      <td>...</td>\n",
              "      <td>...</td>\n",
              "      <td>...</td>\n",
              "    </tr>\n",
              "    <tr>\n",
              "      <th>32979</th>\n",
              "      <td>US_WY</td>\n",
              "      <td>2022-08-09</td>\n",
              "      <td>6.000001</td>\n",
              "      <td>44614.0</td>\n",
              "      <td>0.000669</td>\n",
              "    </tr>\n",
              "    <tr>\n",
              "      <th>32980</th>\n",
              "      <td>US_WY</td>\n",
              "      <td>2022-08-10</td>\n",
              "      <td>2.000000</td>\n",
              "      <td>44614.0</td>\n",
              "      <td>0.000223</td>\n",
              "    </tr>\n",
              "    <tr>\n",
              "      <th>32981</th>\n",
              "      <td>US_WY</td>\n",
              "      <td>2022-08-11</td>\n",
              "      <td>0.666667</td>\n",
              "      <td>44614.0</td>\n",
              "      <td>152.666741</td>\n",
              "    </tr>\n",
              "    <tr>\n",
              "      <th>32982</th>\n",
              "      <td>US_WY</td>\n",
              "      <td>2022-08-12</td>\n",
              "      <td>0.222222</td>\n",
              "      <td>44614.0</td>\n",
              "      <td>50.888914</td>\n",
              "    </tr>\n",
              "    <tr>\n",
              "      <th>32983</th>\n",
              "      <td>US_WY</td>\n",
              "      <td>2022-08-13</td>\n",
              "      <td>0.074074</td>\n",
              "      <td>44614.0</td>\n",
              "      <td>16.962971</td>\n",
              "    </tr>\n",
              "  </tbody>\n",
              "</table>\n",
              "<p>32984 rows × 5 columns</p>\n",
              "</div>\n",
              "      <button class=\"colab-df-convert\" onclick=\"convertToInteractive('df-51c33d8b-d9a9-4e7a-bf9d-7f6b96e0cdad')\"\n",
              "              title=\"Convert this dataframe to an interactive table.\"\n",
              "              style=\"display:none;\">\n",
              "        \n",
              "  <svg xmlns=\"http://www.w3.org/2000/svg\" height=\"24px\"viewBox=\"0 0 24 24\"\n",
              "       width=\"24px\">\n",
              "    <path d=\"M0 0h24v24H0V0z\" fill=\"none\"/>\n",
              "    <path d=\"M18.56 5.44l.94 2.06.94-2.06 2.06-.94-2.06-.94-.94-2.06-.94 2.06-2.06.94zm-11 1L8.5 8.5l.94-2.06 2.06-.94-2.06-.94L8.5 2.5l-.94 2.06-2.06.94zm10 10l.94 2.06.94-2.06 2.06-.94-2.06-.94-.94-2.06-.94 2.06-2.06.94z\"/><path d=\"M17.41 7.96l-1.37-1.37c-.4-.4-.92-.59-1.43-.59-.52 0-1.04.2-1.43.59L10.3 9.45l-7.72 7.72c-.78.78-.78 2.05 0 2.83L4 21.41c.39.39.9.59 1.41.59.51 0 1.02-.2 1.41-.59l7.78-7.78 2.81-2.81c.8-.78.8-2.07 0-2.86zM5.41 20L4 18.59l7.72-7.72 1.47 1.35L5.41 20z\"/>\n",
              "  </svg>\n",
              "      </button>\n",
              "      \n",
              "  <style>\n",
              "    .colab-df-container {\n",
              "      display:flex;\n",
              "      flex-wrap:wrap;\n",
              "      gap: 12px;\n",
              "    }\n",
              "\n",
              "    .colab-df-convert {\n",
              "      background-color: #E8F0FE;\n",
              "      border: none;\n",
              "      border-radius: 50%;\n",
              "      cursor: pointer;\n",
              "      display: none;\n",
              "      fill: #1967D2;\n",
              "      height: 32px;\n",
              "      padding: 0 0 0 0;\n",
              "      width: 32px;\n",
              "    }\n",
              "\n",
              "    .colab-df-convert:hover {\n",
              "      background-color: #E2EBFA;\n",
              "      box-shadow: 0px 1px 2px rgba(60, 64, 67, 0.3), 0px 1px 3px 1px rgba(60, 64, 67, 0.15);\n",
              "      fill: #174EA6;\n",
              "    }\n",
              "\n",
              "    [theme=dark] .colab-df-convert {\n",
              "      background-color: #3B4455;\n",
              "      fill: #D2E3FC;\n",
              "    }\n",
              "\n",
              "    [theme=dark] .colab-df-convert:hover {\n",
              "      background-color: #434B5C;\n",
              "      box-shadow: 0px 1px 3px 1px rgba(0, 0, 0, 0.15);\n",
              "      filter: drop-shadow(0px 1px 2px rgba(0, 0, 0, 0.3));\n",
              "      fill: #FFFFFF;\n",
              "    }\n",
              "  </style>\n",
              "\n",
              "      <script>\n",
              "        const buttonEl =\n",
              "          document.querySelector('#df-51c33d8b-d9a9-4e7a-bf9d-7f6b96e0cdad button.colab-df-convert');\n",
              "        buttonEl.style.display =\n",
              "          google.colab.kernel.accessAllowed ? 'block' : 'none';\n",
              "\n",
              "        async function convertToInteractive(key) {\n",
              "          const element = document.querySelector('#df-51c33d8b-d9a9-4e7a-bf9d-7f6b96e0cdad');\n",
              "          const dataTable =\n",
              "            await google.colab.kernel.invokeFunction('convertToInteractive',\n",
              "                                                     [key], {});\n",
              "          if (!dataTable) return;\n",
              "\n",
              "          const docLinkHtml = 'Like what you see? Visit the ' +\n",
              "            '<a target=\"_blank\" href=https://colab.research.google.com/notebooks/data_table.ipynb>data table notebook</a>'\n",
              "            + ' to learn more about interactive tables.';\n",
              "          element.innerHTML = '';\n",
              "          dataTable['output_type'] = 'display_data';\n",
              "          await google.colab.output.renderOutput(dataTable, element);\n",
              "          const docLink = document.createElement('div');\n",
              "          docLink.innerHTML = docLinkHtml;\n",
              "          element.appendChild(docLink);\n",
              "        }\n",
              "      </script>\n",
              "    </div>\n",
              "  </div>\n",
              "  "
            ],
            "text/plain": [
              "          id       date  new_deceased  population_age_70_79  \\\n",
              "0      US_AK 2021-01-02      2.171726               35021.0   \n",
              "1      US_AK 2021-01-03      1.390575               35021.0   \n",
              "2      US_AK 2021-01-04      0.463525               35021.0   \n",
              "3      US_AK 2021-01-05      2.154508               35021.0   \n",
              "4      US_AK 2021-01-06      1.384836               35021.0   \n",
              "...      ...        ...           ...                   ...   \n",
              "32979  US_WY 2022-08-09      6.000001               44614.0   \n",
              "32980  US_WY 2022-08-10      2.000000               44614.0   \n",
              "32981  US_WY 2022-08-11      0.666667               44614.0   \n",
              "32982  US_WY 2022-08-12      0.222222               44614.0   \n",
              "32983  US_WY 2022-08-13      0.074074               44614.0   \n",
              "\n",
              "       new_persons_vaccinated  \n",
              "0                    0.000000  \n",
              "1                    0.000000  \n",
              "2                    0.000000  \n",
              "3                    0.000000  \n",
              "4                    0.000000  \n",
              "...                       ...  \n",
              "32979                0.000669  \n",
              "32980                0.000223  \n",
              "32981              152.666741  \n",
              "32982               50.888914  \n",
              "32983               16.962971  \n",
              "\n",
              "[32984 rows x 5 columns]"
            ]
          },
          "execution_count": 22,
          "metadata": {},
          "output_type": "execute_result"
        }
      ],
      "source": [
        "test"
      ]
    },
    {
      "cell_type": "markdown",
      "metadata": {
        "id": "qa4ZIdCWOOyF"
      },
      "source": [
        "## Tutorial: Finding Your First Data Driver in the Demo Dataset\n",
        "\n",
        "Now that you are familiar with the basic interactive components of the interface, this tutorial will demonstrate how to use the tool to discover important drivers on our demo dataset.\n",
        "\n",
        "\n",
        "### The Data\n",
        "\n",
        "The demo dataset we are using is a subset of `bigquery-public-data.covid19_open_data.covid19_open_data` available on Google BigQuery, cleaned and formatted for use inside the Praxis interface. It contains daily time-series data related to COVID-19. You can find the list of sources available here: https://github.com/open-covid-19/data."
      ]
    },
    {
      "cell_type": "code",
      "execution_count": null,
      "metadata": {
        "colab": {
          "base_uri": "https://localhost:8080/",
          "height": 488
        },
        "id": "1kuuxZMpUeRq",
        "outputId": "676807b2-23ba-41c2-ea6d-1a7614e3cc6d"
      },
      "outputs": [
        {
          "data": {
            "text/html": [
              "\n",
              "  <div id=\"df-1d686c4c-8712-41b0-a734-07e52f81f780\">\n",
              "    <div class=\"colab-df-container\">\n",
              "      <div>\n",
              "<style scoped>\n",
              "    .dataframe tbody tr th:only-of-type {\n",
              "        vertical-align: middle;\n",
              "    }\n",
              "\n",
              "    .dataframe tbody tr th {\n",
              "        vertical-align: top;\n",
              "    }\n",
              "\n",
              "    .dataframe thead th {\n",
              "        text-align: right;\n",
              "    }\n",
              "</style>\n",
              "<table border=\"1\" class=\"dataframe\">\n",
              "  <thead>\n",
              "    <tr style=\"text-align: right;\">\n",
              "      <th></th>\n",
              "      <th>date</th>\n",
              "      <th>id</th>\n",
              "      <th>new_confirmed</th>\n",
              "      <th>new_deceased</th>\n",
              "      <th>cumulative_confirmed</th>\n",
              "      <th>cumulative_deceased</th>\n",
              "      <th>new_persons_vaccinated</th>\n",
              "      <th>cumulative_persons_vaccinated</th>\n",
              "      <th>new_persons_fully_vaccinated</th>\n",
              "      <th>cumulative_persons_fully_vaccinated</th>\n",
              "      <th>...</th>\n",
              "      <th>new_vaccine_doses_administered_pfizer</th>\n",
              "      <th>cumulative_vaccine_doses_administered_pfizer</th>\n",
              "      <th>new_persons_fully_vaccinated_moderna</th>\n",
              "      <th>cumulative_persons_fully_vaccinated_moderna</th>\n",
              "      <th>new_vaccine_doses_administered_moderna</th>\n",
              "      <th>cumulative_vaccine_doses_administered_moderna</th>\n",
              "      <th>new_persons_fully_vaccinated_janssen</th>\n",
              "      <th>cumulative_persons_fully_vaccinated_janssen</th>\n",
              "      <th>new_vaccine_doses_administered_janssen</th>\n",
              "      <th>cumulative_vaccine_doses_administered_janssen</th>\n",
              "    </tr>\n",
              "  </thead>\n",
              "  <tbody>\n",
              "    <tr>\n",
              "      <th>0</th>\n",
              "      <td>2020-01-01</td>\n",
              "      <td>US_AK</td>\n",
              "      <td>0.000000</td>\n",
              "      <td>0.000000</td>\n",
              "      <td>0.000000</td>\n",
              "      <td>0.000000</td>\n",
              "      <td>0.000000</td>\n",
              "      <td>0.000000</td>\n",
              "      <td>0.000000</td>\n",
              "      <td>0.000000</td>\n",
              "      <td>...</td>\n",
              "      <td>0.000000</td>\n",
              "      <td>0.000000</td>\n",
              "      <td>0.000000</td>\n",
              "      <td>0.000000</td>\n",
              "      <td>0.000000</td>\n",
              "      <td>0.000000</td>\n",
              "      <td>0.000000</td>\n",
              "      <td>0.000000</td>\n",
              "      <td>0.000000</td>\n",
              "      <td>0.000000</td>\n",
              "    </tr>\n",
              "    <tr>\n",
              "      <th>1</th>\n",
              "      <td>2020-01-02</td>\n",
              "      <td>US_AK</td>\n",
              "      <td>0.000000</td>\n",
              "      <td>0.000000</td>\n",
              "      <td>0.000000</td>\n",
              "      <td>0.000000</td>\n",
              "      <td>0.000000</td>\n",
              "      <td>0.000000</td>\n",
              "      <td>0.000000</td>\n",
              "      <td>0.000000</td>\n",
              "      <td>...</td>\n",
              "      <td>0.000000</td>\n",
              "      <td>0.000000</td>\n",
              "      <td>0.000000</td>\n",
              "      <td>0.000000</td>\n",
              "      <td>0.000000</td>\n",
              "      <td>0.000000</td>\n",
              "      <td>0.000000</td>\n",
              "      <td>0.000000</td>\n",
              "      <td>0.000000</td>\n",
              "      <td>0.000000</td>\n",
              "    </tr>\n",
              "    <tr>\n",
              "      <th>2</th>\n",
              "      <td>2020-01-03</td>\n",
              "      <td>US_AK</td>\n",
              "      <td>0.000000</td>\n",
              "      <td>0.000000</td>\n",
              "      <td>0.000000</td>\n",
              "      <td>0.000000</td>\n",
              "      <td>0.000000</td>\n",
              "      <td>0.000000</td>\n",
              "      <td>0.000000</td>\n",
              "      <td>0.000000</td>\n",
              "      <td>...</td>\n",
              "      <td>0.000000</td>\n",
              "      <td>0.000000</td>\n",
              "      <td>0.000000</td>\n",
              "      <td>0.000000</td>\n",
              "      <td>0.000000</td>\n",
              "      <td>0.000000</td>\n",
              "      <td>0.000000</td>\n",
              "      <td>0.000000</td>\n",
              "      <td>0.000000</td>\n",
              "      <td>0.000000</td>\n",
              "    </tr>\n",
              "    <tr>\n",
              "      <th>3</th>\n",
              "      <td>2020-01-04</td>\n",
              "      <td>US_AK</td>\n",
              "      <td>0.000000</td>\n",
              "      <td>0.000000</td>\n",
              "      <td>0.000000</td>\n",
              "      <td>0.000000</td>\n",
              "      <td>0.000000</td>\n",
              "      <td>0.000000</td>\n",
              "      <td>0.000000</td>\n",
              "      <td>0.000000</td>\n",
              "      <td>...</td>\n",
              "      <td>0.000000</td>\n",
              "      <td>0.000000</td>\n",
              "      <td>0.000000</td>\n",
              "      <td>0.000000</td>\n",
              "      <td>0.000000</td>\n",
              "      <td>0.000000</td>\n",
              "      <td>0.000000</td>\n",
              "      <td>0.000000</td>\n",
              "      <td>0.000000</td>\n",
              "      <td>0.000000</td>\n",
              "    </tr>\n",
              "    <tr>\n",
              "      <th>4</th>\n",
              "      <td>2020-01-05</td>\n",
              "      <td>US_AK</td>\n",
              "      <td>0.000000</td>\n",
              "      <td>0.000000</td>\n",
              "      <td>0.000000</td>\n",
              "      <td>0.000000</td>\n",
              "      <td>0.000000</td>\n",
              "      <td>0.000000</td>\n",
              "      <td>0.000000</td>\n",
              "      <td>0.000000</td>\n",
              "      <td>...</td>\n",
              "      <td>0.000000</td>\n",
              "      <td>0.000000</td>\n",
              "      <td>0.000000</td>\n",
              "      <td>0.000000</td>\n",
              "      <td>0.000000</td>\n",
              "      <td>0.000000</td>\n",
              "      <td>0.000000</td>\n",
              "      <td>0.000000</td>\n",
              "      <td>0.000000</td>\n",
              "      <td>0.000000</td>\n",
              "    </tr>\n",
              "    <tr>\n",
              "      <th>...</th>\n",
              "      <td>...</td>\n",
              "      <td>...</td>\n",
              "      <td>...</td>\n",
              "      <td>...</td>\n",
              "      <td>...</td>\n",
              "      <td>...</td>\n",
              "      <td>...</td>\n",
              "      <td>...</td>\n",
              "      <td>...</td>\n",
              "      <td>...</td>\n",
              "      <td>...</td>\n",
              "      <td>...</td>\n",
              "      <td>...</td>\n",
              "      <td>...</td>\n",
              "      <td>...</td>\n",
              "      <td>...</td>\n",
              "      <td>...</td>\n",
              "      <td>...</td>\n",
              "      <td>...</td>\n",
              "      <td>...</td>\n",
              "      <td>...</td>\n",
              "    </tr>\n",
              "    <tr>\n",
              "      <th>53531</th>\n",
              "      <td>2022-08-09</td>\n",
              "      <td>US_WY</td>\n",
              "      <td>767.727060</td>\n",
              "      <td>6.000001</td>\n",
              "      <td>172089.136470</td>\n",
              "      <td>1862.000000</td>\n",
              "      <td>0.000669</td>\n",
              "      <td>341423.018870</td>\n",
              "      <td>1.004531</td>\n",
              "      <td>298931.497735</td>\n",
              "      <td>...</td>\n",
              "      <td>2.457173</td>\n",
              "      <td>401370.771414</td>\n",
              "      <td>0.502280</td>\n",
              "      <td>121411.748860</td>\n",
              "      <td>2.972672</td>\n",
              "      <td>341851.513664</td>\n",
              "      <td>0.049405</td>\n",
              "      <td>26924.975297</td>\n",
              "      <td>0.079584</td>\n",
              "      <td>28970.960208</td>\n",
              "    </tr>\n",
              "    <tr>\n",
              "      <th>53532</th>\n",
              "      <td>2022-08-10</td>\n",
              "      <td>US_WY</td>\n",
              "      <td>255.909020</td>\n",
              "      <td>2.000000</td>\n",
              "      <td>172345.045490</td>\n",
              "      <td>1864.000000</td>\n",
              "      <td>0.000223</td>\n",
              "      <td>341423.006290</td>\n",
              "      <td>0.334844</td>\n",
              "      <td>298931.832578</td>\n",
              "      <td>...</td>\n",
              "      <td>0.819058</td>\n",
              "      <td>401371.590471</td>\n",
              "      <td>0.167427</td>\n",
              "      <td>121411.916287</td>\n",
              "      <td>0.990891</td>\n",
              "      <td>341852.504555</td>\n",
              "      <td>0.016468</td>\n",
              "      <td>26924.991766</td>\n",
              "      <td>0.026528</td>\n",
              "      <td>28970.986736</td>\n",
              "    </tr>\n",
              "    <tr>\n",
              "      <th>53533</th>\n",
              "      <td>2022-08-11</td>\n",
              "      <td>US_WY</td>\n",
              "      <td>85.303007</td>\n",
              "      <td>0.666667</td>\n",
              "      <td>172430.348497</td>\n",
              "      <td>1864.666667</td>\n",
              "      <td>152.666741</td>\n",
              "      <td>341575.668763</td>\n",
              "      <td>306.111615</td>\n",
              "      <td>299237.944193</td>\n",
              "      <td>...</td>\n",
              "      <td>314.939686</td>\n",
              "      <td>401686.530157</td>\n",
              "      <td>149.389142</td>\n",
              "      <td>121561.305429</td>\n",
              "      <td>258.330297</td>\n",
              "      <td>342110.834852</td>\n",
              "      <td>5.338823</td>\n",
              "      <td>26930.330589</td>\n",
              "      <td>4.675509</td>\n",
              "      <td>28975.662245</td>\n",
              "    </tr>\n",
              "    <tr>\n",
              "      <th>53534</th>\n",
              "      <td>2022-08-12</td>\n",
              "      <td>US_WY</td>\n",
              "      <td>28.434336</td>\n",
              "      <td>0.222222</td>\n",
              "      <td>57476.782832</td>\n",
              "      <td>621.555556</td>\n",
              "      <td>50.888914</td>\n",
              "      <td>341626.556254</td>\n",
              "      <td>102.037205</td>\n",
              "      <td>299339.981398</td>\n",
              "      <td>...</td>\n",
              "      <td>104.979895</td>\n",
              "      <td>401791.510052</td>\n",
              "      <td>49.796381</td>\n",
              "      <td>121611.101810</td>\n",
              "      <td>86.110099</td>\n",
              "      <td>342196.944951</td>\n",
              "      <td>1.779608</td>\n",
              "      <td>26932.110196</td>\n",
              "      <td>1.558503</td>\n",
              "      <td>28977.220748</td>\n",
              "    </tr>\n",
              "    <tr>\n",
              "      <th>53535</th>\n",
              "      <td>2022-08-13</td>\n",
              "      <td>US_WY</td>\n",
              "      <td>9.478112</td>\n",
              "      <td>0.074074</td>\n",
              "      <td>19158.927611</td>\n",
              "      <td>207.185185</td>\n",
              "      <td>16.962971</td>\n",
              "      <td>113875.518751</td>\n",
              "      <td>34.012402</td>\n",
              "      <td>99779.993799</td>\n",
              "      <td>...</td>\n",
              "      <td>34.993298</td>\n",
              "      <td>133930.503351</td>\n",
              "      <td>16.598794</td>\n",
              "      <td>40537.033937</td>\n",
              "      <td>28.703366</td>\n",
              "      <td>114065.648317</td>\n",
              "      <td>0.593203</td>\n",
              "      <td>8977.370065</td>\n",
              "      <td>0.519501</td>\n",
              "      <td>9659.073583</td>\n",
              "    </tr>\n",
              "  </tbody>\n",
              "</table>\n",
              "<p>53536 rows × 420 columns</p>\n",
              "</div>\n",
              "      <button class=\"colab-df-convert\" onclick=\"convertToInteractive('df-1d686c4c-8712-41b0-a734-07e52f81f780')\"\n",
              "              title=\"Convert this dataframe to an interactive table.\"\n",
              "              style=\"display:none;\">\n",
              "        \n",
              "  <svg xmlns=\"http://www.w3.org/2000/svg\" height=\"24px\"viewBox=\"0 0 24 24\"\n",
              "       width=\"24px\">\n",
              "    <path d=\"M0 0h24v24H0V0z\" fill=\"none\"/>\n",
              "    <path d=\"M18.56 5.44l.94 2.06.94-2.06 2.06-.94-2.06-.94-.94-2.06-.94 2.06-2.06.94zm-11 1L8.5 8.5l.94-2.06 2.06-.94-2.06-.94L8.5 2.5l-.94 2.06-2.06.94zm10 10l.94 2.06.94-2.06 2.06-.94-2.06-.94-.94-2.06-.94 2.06-2.06.94z\"/><path d=\"M17.41 7.96l-1.37-1.37c-.4-.4-.92-.59-1.43-.59-.52 0-1.04.2-1.43.59L10.3 9.45l-7.72 7.72c-.78.78-.78 2.05 0 2.83L4 21.41c.39.39.9.59 1.41.59.51 0 1.02-.2 1.41-.59l7.78-7.78 2.81-2.81c.8-.78.8-2.07 0-2.86zM5.41 20L4 18.59l7.72-7.72 1.47 1.35L5.41 20z\"/>\n",
              "  </svg>\n",
              "      </button>\n",
              "      \n",
              "  <style>\n",
              "    .colab-df-container {\n",
              "      display:flex;\n",
              "      flex-wrap:wrap;\n",
              "      gap: 12px;\n",
              "    }\n",
              "\n",
              "    .colab-df-convert {\n",
              "      background-color: #E8F0FE;\n",
              "      border: none;\n",
              "      border-radius: 50%;\n",
              "      cursor: pointer;\n",
              "      display: none;\n",
              "      fill: #1967D2;\n",
              "      height: 32px;\n",
              "      padding: 0 0 0 0;\n",
              "      width: 32px;\n",
              "    }\n",
              "\n",
              "    .colab-df-convert:hover {\n",
              "      background-color: #E2EBFA;\n",
              "      box-shadow: 0px 1px 2px rgba(60, 64, 67, 0.3), 0px 1px 3px 1px rgba(60, 64, 67, 0.15);\n",
              "      fill: #174EA6;\n",
              "    }\n",
              "\n",
              "    [theme=dark] .colab-df-convert {\n",
              "      background-color: #3B4455;\n",
              "      fill: #D2E3FC;\n",
              "    }\n",
              "\n",
              "    [theme=dark] .colab-df-convert:hover {\n",
              "      background-color: #434B5C;\n",
              "      box-shadow: 0px 1px 3px 1px rgba(0, 0, 0, 0.15);\n",
              "      filter: drop-shadow(0px 1px 2px rgba(0, 0, 0, 0.3));\n",
              "      fill: #FFFFFF;\n",
              "    }\n",
              "  </style>\n",
              "\n",
              "      <script>\n",
              "        const buttonEl =\n",
              "          document.querySelector('#df-1d686c4c-8712-41b0-a734-07e52f81f780 button.colab-df-convert');\n",
              "        buttonEl.style.display =\n",
              "          google.colab.kernel.accessAllowed ? 'block' : 'none';\n",
              "\n",
              "        async function convertToInteractive(key) {\n",
              "          const element = document.querySelector('#df-1d686c4c-8712-41b0-a734-07e52f81f780');\n",
              "          const dataTable =\n",
              "            await google.colab.kernel.invokeFunction('convertToInteractive',\n",
              "                                                     [key], {});\n",
              "          if (!dataTable) return;\n",
              "\n",
              "          const docLinkHtml = 'Like what you see? Visit the ' +\n",
              "            '<a target=\"_blank\" href=https://colab.research.google.com/notebooks/data_table.ipynb>data table notebook</a>'\n",
              "            + ' to learn more about interactive tables.';\n",
              "          element.innerHTML = '';\n",
              "          dataTable['output_type'] = 'display_data';\n",
              "          await google.colab.output.renderOutput(dataTable, element);\n",
              "          const docLink = document.createElement('div');\n",
              "          docLink.innerHTML = docLinkHtml;\n",
              "          element.appendChild(docLink);\n",
              "        }\n",
              "      </script>\n",
              "    </div>\n",
              "  </div>\n",
              "  "
            ],
            "text/plain": [
              "            date     id  new_confirmed  new_deceased  cumulative_confirmed  \\\n",
              "0     2020-01-01  US_AK       0.000000      0.000000              0.000000   \n",
              "1     2020-01-02  US_AK       0.000000      0.000000              0.000000   \n",
              "2     2020-01-03  US_AK       0.000000      0.000000              0.000000   \n",
              "3     2020-01-04  US_AK       0.000000      0.000000              0.000000   \n",
              "4     2020-01-05  US_AK       0.000000      0.000000              0.000000   \n",
              "...          ...    ...            ...           ...                   ...   \n",
              "53531 2022-08-09  US_WY     767.727060      6.000001         172089.136470   \n",
              "53532 2022-08-10  US_WY     255.909020      2.000000         172345.045490   \n",
              "53533 2022-08-11  US_WY      85.303007      0.666667         172430.348497   \n",
              "53534 2022-08-12  US_WY      28.434336      0.222222          57476.782832   \n",
              "53535 2022-08-13  US_WY       9.478112      0.074074          19158.927611   \n",
              "\n",
              "       cumulative_deceased  new_persons_vaccinated  \\\n",
              "0                 0.000000                0.000000   \n",
              "1                 0.000000                0.000000   \n",
              "2                 0.000000                0.000000   \n",
              "3                 0.000000                0.000000   \n",
              "4                 0.000000                0.000000   \n",
              "...                    ...                     ...   \n",
              "53531          1862.000000                0.000669   \n",
              "53532          1864.000000                0.000223   \n",
              "53533          1864.666667              152.666741   \n",
              "53534           621.555556               50.888914   \n",
              "53535           207.185185               16.962971   \n",
              "\n",
              "       cumulative_persons_vaccinated  new_persons_fully_vaccinated  \\\n",
              "0                           0.000000                      0.000000   \n",
              "1                           0.000000                      0.000000   \n",
              "2                           0.000000                      0.000000   \n",
              "3                           0.000000                      0.000000   \n",
              "4                           0.000000                      0.000000   \n",
              "...                              ...                           ...   \n",
              "53531                  341423.018870                      1.004531   \n",
              "53532                  341423.006290                      0.334844   \n",
              "53533                  341575.668763                    306.111615   \n",
              "53534                  341626.556254                    102.037205   \n",
              "53535                  113875.518751                     34.012402   \n",
              "\n",
              "       cumulative_persons_fully_vaccinated  ...  \\\n",
              "0                                 0.000000  ...   \n",
              "1                                 0.000000  ...   \n",
              "2                                 0.000000  ...   \n",
              "3                                 0.000000  ...   \n",
              "4                                 0.000000  ...   \n",
              "...                                    ...  ...   \n",
              "53531                        298931.497735  ...   \n",
              "53532                        298931.832578  ...   \n",
              "53533                        299237.944193  ...   \n",
              "53534                        299339.981398  ...   \n",
              "53535                         99779.993799  ...   \n",
              "\n",
              "       new_vaccine_doses_administered_pfizer  \\\n",
              "0                                   0.000000   \n",
              "1                                   0.000000   \n",
              "2                                   0.000000   \n",
              "3                                   0.000000   \n",
              "4                                   0.000000   \n",
              "...                                      ...   \n",
              "53531                               2.457173   \n",
              "53532                               0.819058   \n",
              "53533                             314.939686   \n",
              "53534                             104.979895   \n",
              "53535                              34.993298   \n",
              "\n",
              "       cumulative_vaccine_doses_administered_pfizer  \\\n",
              "0                                          0.000000   \n",
              "1                                          0.000000   \n",
              "2                                          0.000000   \n",
              "3                                          0.000000   \n",
              "4                                          0.000000   \n",
              "...                                             ...   \n",
              "53531                                 401370.771414   \n",
              "53532                                 401371.590471   \n",
              "53533                                 401686.530157   \n",
              "53534                                 401791.510052   \n",
              "53535                                 133930.503351   \n",
              "\n",
              "       new_persons_fully_vaccinated_moderna  \\\n",
              "0                                  0.000000   \n",
              "1                                  0.000000   \n",
              "2                                  0.000000   \n",
              "3                                  0.000000   \n",
              "4                                  0.000000   \n",
              "...                                     ...   \n",
              "53531                              0.502280   \n",
              "53532                              0.167427   \n",
              "53533                            149.389142   \n",
              "53534                             49.796381   \n",
              "53535                             16.598794   \n",
              "\n",
              "       cumulative_persons_fully_vaccinated_moderna  \\\n",
              "0                                         0.000000   \n",
              "1                                         0.000000   \n",
              "2                                         0.000000   \n",
              "3                                         0.000000   \n",
              "4                                         0.000000   \n",
              "...                                            ...   \n",
              "53531                                121411.748860   \n",
              "53532                                121411.916287   \n",
              "53533                                121561.305429   \n",
              "53534                                121611.101810   \n",
              "53535                                 40537.033937   \n",
              "\n",
              "       new_vaccine_doses_administered_moderna  \\\n",
              "0                                    0.000000   \n",
              "1                                    0.000000   \n",
              "2                                    0.000000   \n",
              "3                                    0.000000   \n",
              "4                                    0.000000   \n",
              "...                                       ...   \n",
              "53531                                2.972672   \n",
              "53532                                0.990891   \n",
              "53533                              258.330297   \n",
              "53534                               86.110099   \n",
              "53535                               28.703366   \n",
              "\n",
              "       cumulative_vaccine_doses_administered_moderna  \\\n",
              "0                                           0.000000   \n",
              "1                                           0.000000   \n",
              "2                                           0.000000   \n",
              "3                                           0.000000   \n",
              "4                                           0.000000   \n",
              "...                                              ...   \n",
              "53531                                  341851.513664   \n",
              "53532                                  341852.504555   \n",
              "53533                                  342110.834852   \n",
              "53534                                  342196.944951   \n",
              "53535                                  114065.648317   \n",
              "\n",
              "       new_persons_fully_vaccinated_janssen  \\\n",
              "0                                  0.000000   \n",
              "1                                  0.000000   \n",
              "2                                  0.000000   \n",
              "3                                  0.000000   \n",
              "4                                  0.000000   \n",
              "...                                     ...   \n",
              "53531                              0.049405   \n",
              "53532                              0.016468   \n",
              "53533                              5.338823   \n",
              "53534                              1.779608   \n",
              "53535                              0.593203   \n",
              "\n",
              "       cumulative_persons_fully_vaccinated_janssen  \\\n",
              "0                                         0.000000   \n",
              "1                                         0.000000   \n",
              "2                                         0.000000   \n",
              "3                                         0.000000   \n",
              "4                                         0.000000   \n",
              "...                                            ...   \n",
              "53531                                 26924.975297   \n",
              "53532                                 26924.991766   \n",
              "53533                                 26930.330589   \n",
              "53534                                 26932.110196   \n",
              "53535                                  8977.370065   \n",
              "\n",
              "       new_vaccine_doses_administered_janssen  \\\n",
              "0                                    0.000000   \n",
              "1                                    0.000000   \n",
              "2                                    0.000000   \n",
              "3                                    0.000000   \n",
              "4                                    0.000000   \n",
              "...                                       ...   \n",
              "53531                                0.079584   \n",
              "53532                                0.026528   \n",
              "53533                                4.675509   \n",
              "53534                                1.558503   \n",
              "53535                                0.519501   \n",
              "\n",
              "       cumulative_vaccine_doses_administered_janssen  \n",
              "0                                           0.000000  \n",
              "1                                           0.000000  \n",
              "2                                           0.000000  \n",
              "3                                           0.000000  \n",
              "4                                           0.000000  \n",
              "...                                              ...  \n",
              "53531                                   28970.960208  \n",
              "53532                                   28970.986736  \n",
              "53533                                   28975.662245  \n",
              "53534                                   28977.220748  \n",
              "53535                                    9659.073583  \n",
              "\n",
              "[53536 rows x 420 columns]"
            ]
          },
          "execution_count": 24,
          "metadata": {},
          "output_type": "execute_result"
        }
      ],
      "source": [
        "df # get a glimpse of the dataset."
      ]
    },
    {
      "cell_type": "code",
      "execution_count": null,
      "metadata": {
        "id": "PhPFHadOqs6r"
      },
      "outputs": [],
      "source": [
        "praxis.run(mode=\"external\") # run the interface again."
      ]
    },
    {
      "cell_type": "markdown",
      "metadata": {
        "id": "oarezmUuYf0M"
      },
      "source": [
        "Let's say we'd like to predict the `new_deceased` column for the `US_CA` time-series starting at 03/01/2021, 20 days into the future. We'll use [CatBoost](https://catboost.ai/) for a baseline model:\n",
        "\n",
        "\n",
        "![baseline](https://drive.google.com/uc?id=1C2idiBK1HIKc_9i01wFePfuhhD9wif8N)"
      ]
    },
    {
      "cell_type": "markdown",
      "metadata": {
        "id": "EeFphAxEdCHO"
      },
      "source": [
        "We now have a 64.26% SMAPE, which is not great. We will now use the leading indicator search to find potential data drivers: \n",
        "\n",
        "![baseline](https://drive.google.com/uc?id=1_i3pV2wfb2GZzyrS6pUsbHdN1t5ftU54)"
      ]
    },
    {
      "cell_type": "markdown",
      "metadata": {
        "id": "3-xzbkAKe-wa"
      },
      "source": [
        "We've now found some interesting candidate leading indicators that may improve our results. We will pick the covariate that have the lowest f-value: `search_trends_hypoxia` and retrain the model.\n",
        "\n",
        "\n",
        "![new-model](https://drive.google.com/uc?id=1zIRsYX7-Rh4xR4-tBQ2rWaBYLqvrYTPW)"
      ]
    },
    {
      "cell_type": "markdown",
      "metadata": {
        "id": "hsrnqfXWgL2a"
      },
      "source": [
        "As shown above, we are able to achieve a 30% improvement (64.26% -> 34.56%) with the Praxis tool by finding core data drivers in your time-series dataset and fast iteration of using investigative baseline models to measure the quality of your features."
      ]
    }
  ],
  "metadata": {
    "colab": {
      "collapsed_sections": [],
      "name": "Introduction to Praxis - v0.0.8",
      "provenance": [],
      "toc_visible": true
    },
    "kernelspec": {
      "display_name": "Python 3",
      "language": "python",
      "name": "python3"
    },
    "language_info": {
      "codemirror_mode": {
        "name": "ipython",
        "version": 3
      },
      "file_extension": ".py",
      "mimetype": "text/x-python",
      "name": "python",
      "nbconvert_exporter": "python",
      "pygments_lexer": "ipython3",
      "version": "3.8.8"
    },
    "vscode": {
      "interpreter": {
        "hash": "b0fa6594d8f4cbf19f97940f81e996739fb7646882a419484c72d19e05852a7e"
      }
    }
  },
  "nbformat": 4,
  "nbformat_minor": 0
}
